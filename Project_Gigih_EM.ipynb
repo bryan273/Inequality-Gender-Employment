{
  "nbformat": 4,
  "nbformat_minor": 0,
  "metadata": {
    "colab": {
      "name": "Project_Gigih_EM.ipynb",
      "provenance": [],
      "collapsed_sections": [
        "SyGQcIp30x01",
        "q9L--IZirRnQ",
        "1KjcG1M1Een7",
        "foSkvyIEFq03"
      ]
    },
    "kernelspec": {
      "name": "python3",
      "display_name": "Python 3"
    },
    "language_info": {
      "name": "python"
    }
  },
  "cells": [
    {
      "cell_type": "markdown",
      "source": [
        "## Prerequisities"
      ],
      "metadata": {
        "id": "SyGQcIp30x01"
      }
    },
    {
      "cell_type": "code",
      "source": [
        "!pip install --quiet shap"
      ],
      "metadata": {
        "colab": {
          "base_uri": "https://localhost:8080/"
        },
        "id": "a_ogBLSd_rJ9",
        "outputId": "38b219b0-a89e-4789-cdc7-23b27e2d3fc5"
      },
      "execution_count": null,
      "outputs": [
        {
          "output_type": "stream",
          "name": "stdout",
          "text": [
            "\u001b[?25l\r\u001b[K     |▋                               | 10 kB 18.8 MB/s eta 0:00:01\r\u001b[K     |█▏                              | 20 kB 11.2 MB/s eta 0:00:01\r\u001b[K     |█▊                              | 30 kB 9.0 MB/s eta 0:00:01\r\u001b[K     |██▎                             | 40 kB 7.7 MB/s eta 0:00:01\r\u001b[K     |██▉                             | 51 kB 4.3 MB/s eta 0:00:01\r\u001b[K     |███▌                            | 61 kB 5.1 MB/s eta 0:00:01\r\u001b[K     |████                            | 71 kB 5.3 MB/s eta 0:00:01\r\u001b[K     |████▋                           | 81 kB 3.0 MB/s eta 0:00:01\r\u001b[K     |█████▏                          | 92 kB 3.3 MB/s eta 0:00:01\r\u001b[K     |█████▊                          | 102 kB 3.6 MB/s eta 0:00:01\r\u001b[K     |██████▎                         | 112 kB 3.6 MB/s eta 0:00:01\r\u001b[K     |███████                         | 122 kB 3.6 MB/s eta 0:00:01\r\u001b[K     |███████▌                        | 133 kB 3.6 MB/s eta 0:00:01\r\u001b[K     |████████                        | 143 kB 3.6 MB/s eta 0:00:01\r\u001b[K     |████████▋                       | 153 kB 3.6 MB/s eta 0:00:01\r\u001b[K     |█████████▏                      | 163 kB 3.6 MB/s eta 0:00:01\r\u001b[K     |█████████▉                      | 174 kB 3.6 MB/s eta 0:00:01\r\u001b[K     |██████████▍                     | 184 kB 3.6 MB/s eta 0:00:01\r\u001b[K     |███████████                     | 194 kB 3.6 MB/s eta 0:00:01\r\u001b[K     |███████████▌                    | 204 kB 3.6 MB/s eta 0:00:01\r\u001b[K     |████████████                    | 215 kB 3.6 MB/s eta 0:00:01\r\u001b[K     |████████████▋                   | 225 kB 3.6 MB/s eta 0:00:01\r\u001b[K     |█████████████▎                  | 235 kB 3.6 MB/s eta 0:00:01\r\u001b[K     |█████████████▉                  | 245 kB 3.6 MB/s eta 0:00:01\r\u001b[K     |██████████████▍                 | 256 kB 3.6 MB/s eta 0:00:01\r\u001b[K     |███████████████                 | 266 kB 3.6 MB/s eta 0:00:01\r\u001b[K     |███████████████▌                | 276 kB 3.6 MB/s eta 0:00:01\r\u001b[K     |████████████████                | 286 kB 3.6 MB/s eta 0:00:01\r\u001b[K     |████████████████▊               | 296 kB 3.6 MB/s eta 0:00:01\r\u001b[K     |█████████████████▎              | 307 kB 3.6 MB/s eta 0:00:01\r\u001b[K     |█████████████████▉              | 317 kB 3.6 MB/s eta 0:00:01\r\u001b[K     |██████████████████▍             | 327 kB 3.6 MB/s eta 0:00:01\r\u001b[K     |███████████████████             | 337 kB 3.6 MB/s eta 0:00:01\r\u001b[K     |███████████████████▋            | 348 kB 3.6 MB/s eta 0:00:01\r\u001b[K     |████████████████████▏           | 358 kB 3.6 MB/s eta 0:00:01\r\u001b[K     |████████████████████▊           | 368 kB 3.6 MB/s eta 0:00:01\r\u001b[K     |█████████████████████▎          | 378 kB 3.6 MB/s eta 0:00:01\r\u001b[K     |█████████████████████▉          | 389 kB 3.6 MB/s eta 0:00:01\r\u001b[K     |██████████████████████▍         | 399 kB 3.6 MB/s eta 0:00:01\r\u001b[K     |███████████████████████         | 409 kB 3.6 MB/s eta 0:00:01\r\u001b[K     |███████████████████████▋        | 419 kB 3.6 MB/s eta 0:00:01\r\u001b[K     |████████████████████████▏       | 430 kB 3.6 MB/s eta 0:00:01\r\u001b[K     |████████████████████████▊       | 440 kB 3.6 MB/s eta 0:00:01\r\u001b[K     |█████████████████████████▎      | 450 kB 3.6 MB/s eta 0:00:01\r\u001b[K     |██████████████████████████      | 460 kB 3.6 MB/s eta 0:00:01\r\u001b[K     |██████████████████████████▌     | 471 kB 3.6 MB/s eta 0:00:01\r\u001b[K     |███████████████████████████     | 481 kB 3.6 MB/s eta 0:00:01\r\u001b[K     |███████████████████████████▋    | 491 kB 3.6 MB/s eta 0:00:01\r\u001b[K     |████████████████████████████▏   | 501 kB 3.6 MB/s eta 0:00:01\r\u001b[K     |████████████████████████████▊   | 512 kB 3.6 MB/s eta 0:00:01\r\u001b[K     |█████████████████████████████▍  | 522 kB 3.6 MB/s eta 0:00:01\r\u001b[K     |██████████████████████████████  | 532 kB 3.6 MB/s eta 0:00:01\r\u001b[K     |██████████████████████████████▌ | 542 kB 3.6 MB/s eta 0:00:01\r\u001b[K     |███████████████████████████████ | 552 kB 3.6 MB/s eta 0:00:01\r\u001b[K     |███████████████████████████████▋| 563 kB 3.6 MB/s eta 0:00:01\r\u001b[K     |████████████████████████████████| 569 kB 3.6 MB/s \n",
            "\u001b[?25h"
          ]
        }
      ]
    },
    {
      "cell_type": "code",
      "source": [
        "# install prerequisities\n",
        "\n",
        "import gdown\n",
        "import pandas as pd\n",
        "import numpy as np\n",
        "import nltk\n",
        "import string\n",
        "import re\n",
        "import math\n",
        "import ast\n",
        "import seaborn as sns\n",
        "import matplotlib.pyplot as plt\n",
        "import shap\n",
        "from collections import Counter\n",
        "from textblob import Word\n",
        "from sklearn.linear_model import LinearRegression\n",
        "\n",
        "nltk.download(\"popular\", quiet=True)\n",
        "from nltk.corpus import stopwords\n",
        "from nltk.stem import WordNetLemmatizer"
      ],
      "metadata": {
        "id": "E0UP-ZEuorSN"
      },
      "execution_count": null,
      "outputs": []
    },
    {
      "cell_type": "code",
      "source": [
        "# make stopwords\n",
        "stopwords = stopwords.words('english')\n",
        "# make lemmatizer\n",
        "lemmatizer = WordNetLemmatizer()"
      ],
      "metadata": {
        "id": "VmvhbsuY1RU1"
      },
      "execution_count": null,
      "outputs": []
    },
    {
      "cell_type": "code",
      "source": [
        "# Load data from drive\n",
        "def load_data(link, index= None):\n",
        "  # Download data from gdrive\n",
        "  meta_url = 'https://drive.google.com/uc?export=download&confirm=pbef&id='\n",
        "  url = meta_url + link\n",
        "  output = 'data.csv'\n",
        "  gdown.download(url, output, quiet=True)\n",
        "  data = pd.read_csv(output, on_bad_lines='skip')\n",
        "  return data"
      ],
      "metadata": {
        "id": "Bb-JYV0VDkLP"
      },
      "execution_count": null,
      "outputs": []
    },
    {
      "cell_type": "code",
      "source": [
        "# Spelling correction using textblob\n",
        "def correct_word_spelling(word):\n",
        "    word = Word(word)\n",
        "    result = word.correct()\n",
        "    return result"
      ],
      "metadata": {
        "id": "9pTb3v2O2BQe"
      },
      "execution_count": null,
      "outputs": []
    },
    {
      "cell_type": "markdown",
      "source": [
        "## Preparation on employement indicator data"
      ],
      "metadata": {
        "id": "8RxNDsZr_M6z"
      }
    },
    {
      "cell_type": "markdown",
      "source": [
        "Include:\n",
        "* **Preparation**\n",
        "* **Processing**\n",
        "* **Cleansing**"
      ],
      "metadata": {
        "id": "BKZFA4CWECbs"
      }
    },
    {
      "cell_type": "code",
      "execution_count": null,
      "metadata": {
        "id": "Mw1J-qrydqv2"
      },
      "outputs": [],
      "source": [
        "df = load_data(\"1g_zyzr9CX5p8W8X8Wx5osVQkMY8334Lh\")\n",
        "df.drop(0, inplace=True) # Drop first columns -> id\n",
        "df['Value'] = df['Value'].astype(float)"
      ]
    },
    {
      "cell_type": "code",
      "source": [
        "df.head(2) # Preview"
      ],
      "metadata": {
        "colab": {
          "base_uri": "https://localhost:8080/",
          "height": 112
        },
        "id": "yqDd7Ll3ePT7",
        "outputId": "5d0e0b2e-7729-49fe-8be2-27178b893813"
      },
      "execution_count": null,
      "outputs": [
        {
          "output_type": "execute_result",
          "data": {
            "text/plain": [
              "  Country Name Country ISO3  Year                              Indicator Name  \\\n",
              "1    Indonesia          IDN  2015  Firms with female top manager (% of firms)   \n",
              "2    Indonesia          IDN  2009  Firms with female top manager (% of firms)   \n",
              "\n",
              "   Indicator Code  Value  \n",
              "1  IC.FRM.FEMM.ZS   22.1  \n",
              "2  IC.FRM.FEMM.ZS   31.2  "
            ],
            "text/html": [
              "\n",
              "  <div id=\"df-54103a29-ee30-4fe1-94d9-32f6dad9cb77\">\n",
              "    <div class=\"colab-df-container\">\n",
              "      <div>\n",
              "<style scoped>\n",
              "    .dataframe tbody tr th:only-of-type {\n",
              "        vertical-align: middle;\n",
              "    }\n",
              "\n",
              "    .dataframe tbody tr th {\n",
              "        vertical-align: top;\n",
              "    }\n",
              "\n",
              "    .dataframe thead th {\n",
              "        text-align: right;\n",
              "    }\n",
              "</style>\n",
              "<table border=\"1\" class=\"dataframe\">\n",
              "  <thead>\n",
              "    <tr style=\"text-align: right;\">\n",
              "      <th></th>\n",
              "      <th>Country Name</th>\n",
              "      <th>Country ISO3</th>\n",
              "      <th>Year</th>\n",
              "      <th>Indicator Name</th>\n",
              "      <th>Indicator Code</th>\n",
              "      <th>Value</th>\n",
              "    </tr>\n",
              "  </thead>\n",
              "  <tbody>\n",
              "    <tr>\n",
              "      <th>1</th>\n",
              "      <td>Indonesia</td>\n",
              "      <td>IDN</td>\n",
              "      <td>2015</td>\n",
              "      <td>Firms with female top manager (% of firms)</td>\n",
              "      <td>IC.FRM.FEMM.ZS</td>\n",
              "      <td>22.1</td>\n",
              "    </tr>\n",
              "    <tr>\n",
              "      <th>2</th>\n",
              "      <td>Indonesia</td>\n",
              "      <td>IDN</td>\n",
              "      <td>2009</td>\n",
              "      <td>Firms with female top manager (% of firms)</td>\n",
              "      <td>IC.FRM.FEMM.ZS</td>\n",
              "      <td>31.2</td>\n",
              "    </tr>\n",
              "  </tbody>\n",
              "</table>\n",
              "</div>\n",
              "      <button class=\"colab-df-convert\" onclick=\"convertToInteractive('df-54103a29-ee30-4fe1-94d9-32f6dad9cb77')\"\n",
              "              title=\"Convert this dataframe to an interactive table.\"\n",
              "              style=\"display:none;\">\n",
              "        \n",
              "  <svg xmlns=\"http://www.w3.org/2000/svg\" height=\"24px\"viewBox=\"0 0 24 24\"\n",
              "       width=\"24px\">\n",
              "    <path d=\"M0 0h24v24H0V0z\" fill=\"none\"/>\n",
              "    <path d=\"M18.56 5.44l.94 2.06.94-2.06 2.06-.94-2.06-.94-.94-2.06-.94 2.06-2.06.94zm-11 1L8.5 8.5l.94-2.06 2.06-.94-2.06-.94L8.5 2.5l-.94 2.06-2.06.94zm10 10l.94 2.06.94-2.06 2.06-.94-2.06-.94-.94-2.06-.94 2.06-2.06.94z\"/><path d=\"M17.41 7.96l-1.37-1.37c-.4-.4-.92-.59-1.43-.59-.52 0-1.04.2-1.43.59L10.3 9.45l-7.72 7.72c-.78.78-.78 2.05 0 2.83L4 21.41c.39.39.9.59 1.41.59.51 0 1.02-.2 1.41-.59l7.78-7.78 2.81-2.81c.8-.78.8-2.07 0-2.86zM5.41 20L4 18.59l7.72-7.72 1.47 1.35L5.41 20z\"/>\n",
              "  </svg>\n",
              "      </button>\n",
              "      \n",
              "  <style>\n",
              "    .colab-df-container {\n",
              "      display:flex;\n",
              "      flex-wrap:wrap;\n",
              "      gap: 12px;\n",
              "    }\n",
              "\n",
              "    .colab-df-convert {\n",
              "      background-color: #E8F0FE;\n",
              "      border: none;\n",
              "      border-radius: 50%;\n",
              "      cursor: pointer;\n",
              "      display: none;\n",
              "      fill: #1967D2;\n",
              "      height: 32px;\n",
              "      padding: 0 0 0 0;\n",
              "      width: 32px;\n",
              "    }\n",
              "\n",
              "    .colab-df-convert:hover {\n",
              "      background-color: #E2EBFA;\n",
              "      box-shadow: 0px 1px 2px rgba(60, 64, 67, 0.3), 0px 1px 3px 1px rgba(60, 64, 67, 0.15);\n",
              "      fill: #174EA6;\n",
              "    }\n",
              "\n",
              "    [theme=dark] .colab-df-convert {\n",
              "      background-color: #3B4455;\n",
              "      fill: #D2E3FC;\n",
              "    }\n",
              "\n",
              "    [theme=dark] .colab-df-convert:hover {\n",
              "      background-color: #434B5C;\n",
              "      box-shadow: 0px 1px 3px 1px rgba(0, 0, 0, 0.15);\n",
              "      filter: drop-shadow(0px 1px 2px rgba(0, 0, 0, 0.3));\n",
              "      fill: #FFFFFF;\n",
              "    }\n",
              "  </style>\n",
              "\n",
              "      <script>\n",
              "        const buttonEl =\n",
              "          document.querySelector('#df-54103a29-ee30-4fe1-94d9-32f6dad9cb77 button.colab-df-convert');\n",
              "        buttonEl.style.display =\n",
              "          google.colab.kernel.accessAllowed ? 'block' : 'none';\n",
              "\n",
              "        async function convertToInteractive(key) {\n",
              "          const element = document.querySelector('#df-54103a29-ee30-4fe1-94d9-32f6dad9cb77');\n",
              "          const dataTable =\n",
              "            await google.colab.kernel.invokeFunction('convertToInteractive',\n",
              "                                                     [key], {});\n",
              "          if (!dataTable) return;\n",
              "\n",
              "          const docLinkHtml = 'Like what you see? Visit the ' +\n",
              "            '<a target=\"_blank\" href=https://colab.research.google.com/notebooks/data_table.ipynb>data table notebook</a>'\n",
              "            + ' to learn more about interactive tables.';\n",
              "          element.innerHTML = '';\n",
              "          dataTable['output_type'] = 'display_data';\n",
              "          await google.colab.output.renderOutput(dataTable, element);\n",
              "          const docLink = document.createElement('div');\n",
              "          docLink.innerHTML = docLinkHtml;\n",
              "          element.appendChild(docLink);\n",
              "        }\n",
              "      </script>\n",
              "    </div>\n",
              "  </div>\n",
              "  "
            ]
          },
          "metadata": {},
          "execution_count": 118
        }
      ]
    },
    {
      "cell_type": "code",
      "source": [
        "# Take the data indicator which contains gender comparation (male-female)\n",
        "df_gender = df[df[\"Indicator Name\"].str.contains(\"male\")]"
      ],
      "metadata": {
        "id": "aBHp1wzxBjet"
      },
      "execution_count": null,
      "outputs": []
    },
    {
      "cell_type": "code",
      "source": [
        "# Columns 0 and 1 contained country name and id, which the number of unique is 1 -> Indonesia.\n",
        "# We can drop them and the indicator name.\n",
        "df_gender.iloc[:,0].nunique() & df_gender.iloc[:,1].nunique()"
      ],
      "metadata": {
        "colab": {
          "base_uri": "https://localhost:8080/"
        },
        "id": "OzLe2iUceo92",
        "outputId": "f9b27b0f-57e2-4f69-dce8-4667b1a809a0"
      },
      "execution_count": null,
      "outputs": [
        {
          "output_type": "execute_result",
          "data": {
            "text/plain": [
              "1"
            ]
          },
          "metadata": {},
          "execution_count": 120
        }
      ]
    },
    {
      "cell_type": "code",
      "source": [
        "# Drop irrelevant columns\n",
        "df_drop = df_gender.drop(df_gender.iloc[:,[0,1,3]].columns, axis=1)"
      ],
      "metadata": {
        "id": "vNb4W31EeyIm"
      },
      "execution_count": null,
      "outputs": []
    },
    {
      "cell_type": "code",
      "source": [
        "# Pivotting on the indicator code and value\n",
        "pivot_df = df_drop.pivot(index='Year', columns='Indicator Code',values='Value').iloc[41:]\n",
        "pivot_df.head()"
      ],
      "metadata": {
        "colab": {
          "base_uri": "https://localhost:8080/",
          "height": 348
        },
        "id": "ftbu2JFOeiAb",
        "outputId": "2206cdb7-bfb5-44dd-802b-18912dc81a1b"
      },
      "execution_count": null,
      "outputs": [
        {
          "output_type": "execute_result",
          "data": {
            "text/plain": [
              "Indicator Code  IC.FRM.FEMM.ZS  IC.FRM.FEMO.ZS  SE.ADT.1524.LT.FE.ZS  \\\n",
              "Year                                                                   \n",
              "2001                       NaN             NaN                   NaN   \n",
              "2002                       NaN             NaN                   NaN   \n",
              "2003                       NaN             NaN                   NaN   \n",
              "2004                       NaN             NaN              98.54216   \n",
              "2005                       NaN             NaN                   NaN   \n",
              "\n",
              "Indicator Code  SE.ADT.1524.LT.MA.ZS  SE.ADT.LITR.FE.ZS  SE.ADT.LITR.MA.ZS  \\\n",
              "Year                                                                         \n",
              "2001                             NaN                NaN                NaN   \n",
              "2002                             NaN                NaN                NaN   \n",
              "2003                             NaN                NaN                NaN   \n",
              "2004                       98.867081          86.799591           94.03508   \n",
              "2005                             NaN                NaN                NaN   \n",
              "\n",
              "Indicator Code  SE.PRE.ENRR.FE  SE.PRE.ENRR.MA  SE.PRM.CMPT.FE.ZS  \\\n",
              "Year                                                                \n",
              "2001                 24.882030       24.031130          94.167458   \n",
              "2002                 24.726709       24.092939          95.384338   \n",
              "2003                 26.490709       24.991150          95.680519   \n",
              "2004                 28.189520       25.891350          96.359207   \n",
              "2005                 32.061291       31.035400          95.082039   \n",
              "\n",
              "Indicator Code  SE.PRM.CMPT.MA.ZS  ...  SP.POP.AG03.FE.IN  SP.POP.AG03.MA.IN  \\\n",
              "Year                               ...                                         \n",
              "2001                    93.357780  ...          2127032.0          2198491.0   \n",
              "2002                    94.734100  ...          2145925.0          2220207.0   \n",
              "2003                    95.638657  ...          2164117.0          2242093.0   \n",
              "2004                    94.858833  ...          2178620.0          2263932.0   \n",
              "2005                    93.495461  ...          2195919.0          2289176.0   \n",
              "\n",
              "Indicator Code  SP.POP.AG04.FE.IN  SP.POP.AG04.MA.IN  SP.POP.AG05.FE.IN  \\\n",
              "Year                                                                      \n",
              "2001                    2135417.0          2207710.0          2142090.0   \n",
              "2002                    2154741.0          2229744.0          2161446.0   \n",
              "2003                    2173934.0          2251903.0          2181218.0   \n",
              "2004                    2192363.0          2274597.0          2200806.0   \n",
              "2005                    2209567.0          2298576.0          2219780.0   \n",
              "\n",
              "Indicator Code  SP.POP.AG05.MA.IN  SP.RUR.TOTL.FE.ZS  SP.RUR.TOTL.MA.ZS  \\\n",
              "Year                                                                      \n",
              "2001                    2215158.0                NaN                NaN   \n",
              "2002                    2237373.0                NaN                NaN   \n",
              "2003                    2259805.0                NaN                NaN   \n",
              "2004                    2282660.0                NaN                NaN   \n",
              "2005                    2306482.0          26.652144          27.411229   \n",
              "\n",
              "Indicator Code  SP.URB.TOTL.FE.ZS  SP.URB.TOTL.MA.ZS  \n",
              "Year                                                  \n",
              "2001                          NaN                NaN  \n",
              "2002                          NaN                NaN  \n",
              "2003                          NaN                NaN  \n",
              "2004                          NaN                NaN  \n",
              "2005                    23.145834          22.790793  \n",
              "\n",
              "[5 rows x 156 columns]"
            ],
            "text/html": [
              "\n",
              "  <div id=\"df-de9bed1c-d573-4dd0-98e9-66ebb10dd93e\">\n",
              "    <div class=\"colab-df-container\">\n",
              "      <div>\n",
              "<style scoped>\n",
              "    .dataframe tbody tr th:only-of-type {\n",
              "        vertical-align: middle;\n",
              "    }\n",
              "\n",
              "    .dataframe tbody tr th {\n",
              "        vertical-align: top;\n",
              "    }\n",
              "\n",
              "    .dataframe thead th {\n",
              "        text-align: right;\n",
              "    }\n",
              "</style>\n",
              "<table border=\"1\" class=\"dataframe\">\n",
              "  <thead>\n",
              "    <tr style=\"text-align: right;\">\n",
              "      <th>Indicator Code</th>\n",
              "      <th>IC.FRM.FEMM.ZS</th>\n",
              "      <th>IC.FRM.FEMO.ZS</th>\n",
              "      <th>SE.ADT.1524.LT.FE.ZS</th>\n",
              "      <th>SE.ADT.1524.LT.MA.ZS</th>\n",
              "      <th>SE.ADT.LITR.FE.ZS</th>\n",
              "      <th>SE.ADT.LITR.MA.ZS</th>\n",
              "      <th>SE.PRE.ENRR.FE</th>\n",
              "      <th>SE.PRE.ENRR.MA</th>\n",
              "      <th>SE.PRM.CMPT.FE.ZS</th>\n",
              "      <th>SE.PRM.CMPT.MA.ZS</th>\n",
              "      <th>...</th>\n",
              "      <th>SP.POP.AG03.FE.IN</th>\n",
              "      <th>SP.POP.AG03.MA.IN</th>\n",
              "      <th>SP.POP.AG04.FE.IN</th>\n",
              "      <th>SP.POP.AG04.MA.IN</th>\n",
              "      <th>SP.POP.AG05.FE.IN</th>\n",
              "      <th>SP.POP.AG05.MA.IN</th>\n",
              "      <th>SP.RUR.TOTL.FE.ZS</th>\n",
              "      <th>SP.RUR.TOTL.MA.ZS</th>\n",
              "      <th>SP.URB.TOTL.FE.ZS</th>\n",
              "      <th>SP.URB.TOTL.MA.ZS</th>\n",
              "    </tr>\n",
              "    <tr>\n",
              "      <th>Year</th>\n",
              "      <th></th>\n",
              "      <th></th>\n",
              "      <th></th>\n",
              "      <th></th>\n",
              "      <th></th>\n",
              "      <th></th>\n",
              "      <th></th>\n",
              "      <th></th>\n",
              "      <th></th>\n",
              "      <th></th>\n",
              "      <th></th>\n",
              "      <th></th>\n",
              "      <th></th>\n",
              "      <th></th>\n",
              "      <th></th>\n",
              "      <th></th>\n",
              "      <th></th>\n",
              "      <th></th>\n",
              "      <th></th>\n",
              "      <th></th>\n",
              "      <th></th>\n",
              "    </tr>\n",
              "  </thead>\n",
              "  <tbody>\n",
              "    <tr>\n",
              "      <th>2001</th>\n",
              "      <td>NaN</td>\n",
              "      <td>NaN</td>\n",
              "      <td>NaN</td>\n",
              "      <td>NaN</td>\n",
              "      <td>NaN</td>\n",
              "      <td>NaN</td>\n",
              "      <td>24.882030</td>\n",
              "      <td>24.031130</td>\n",
              "      <td>94.167458</td>\n",
              "      <td>93.357780</td>\n",
              "      <td>...</td>\n",
              "      <td>2127032.0</td>\n",
              "      <td>2198491.0</td>\n",
              "      <td>2135417.0</td>\n",
              "      <td>2207710.0</td>\n",
              "      <td>2142090.0</td>\n",
              "      <td>2215158.0</td>\n",
              "      <td>NaN</td>\n",
              "      <td>NaN</td>\n",
              "      <td>NaN</td>\n",
              "      <td>NaN</td>\n",
              "    </tr>\n",
              "    <tr>\n",
              "      <th>2002</th>\n",
              "      <td>NaN</td>\n",
              "      <td>NaN</td>\n",
              "      <td>NaN</td>\n",
              "      <td>NaN</td>\n",
              "      <td>NaN</td>\n",
              "      <td>NaN</td>\n",
              "      <td>24.726709</td>\n",
              "      <td>24.092939</td>\n",
              "      <td>95.384338</td>\n",
              "      <td>94.734100</td>\n",
              "      <td>...</td>\n",
              "      <td>2145925.0</td>\n",
              "      <td>2220207.0</td>\n",
              "      <td>2154741.0</td>\n",
              "      <td>2229744.0</td>\n",
              "      <td>2161446.0</td>\n",
              "      <td>2237373.0</td>\n",
              "      <td>NaN</td>\n",
              "      <td>NaN</td>\n",
              "      <td>NaN</td>\n",
              "      <td>NaN</td>\n",
              "    </tr>\n",
              "    <tr>\n",
              "      <th>2003</th>\n",
              "      <td>NaN</td>\n",
              "      <td>NaN</td>\n",
              "      <td>NaN</td>\n",
              "      <td>NaN</td>\n",
              "      <td>NaN</td>\n",
              "      <td>NaN</td>\n",
              "      <td>26.490709</td>\n",
              "      <td>24.991150</td>\n",
              "      <td>95.680519</td>\n",
              "      <td>95.638657</td>\n",
              "      <td>...</td>\n",
              "      <td>2164117.0</td>\n",
              "      <td>2242093.0</td>\n",
              "      <td>2173934.0</td>\n",
              "      <td>2251903.0</td>\n",
              "      <td>2181218.0</td>\n",
              "      <td>2259805.0</td>\n",
              "      <td>NaN</td>\n",
              "      <td>NaN</td>\n",
              "      <td>NaN</td>\n",
              "      <td>NaN</td>\n",
              "    </tr>\n",
              "    <tr>\n",
              "      <th>2004</th>\n",
              "      <td>NaN</td>\n",
              "      <td>NaN</td>\n",
              "      <td>98.54216</td>\n",
              "      <td>98.867081</td>\n",
              "      <td>86.799591</td>\n",
              "      <td>94.03508</td>\n",
              "      <td>28.189520</td>\n",
              "      <td>25.891350</td>\n",
              "      <td>96.359207</td>\n",
              "      <td>94.858833</td>\n",
              "      <td>...</td>\n",
              "      <td>2178620.0</td>\n",
              "      <td>2263932.0</td>\n",
              "      <td>2192363.0</td>\n",
              "      <td>2274597.0</td>\n",
              "      <td>2200806.0</td>\n",
              "      <td>2282660.0</td>\n",
              "      <td>NaN</td>\n",
              "      <td>NaN</td>\n",
              "      <td>NaN</td>\n",
              "      <td>NaN</td>\n",
              "    </tr>\n",
              "    <tr>\n",
              "      <th>2005</th>\n",
              "      <td>NaN</td>\n",
              "      <td>NaN</td>\n",
              "      <td>NaN</td>\n",
              "      <td>NaN</td>\n",
              "      <td>NaN</td>\n",
              "      <td>NaN</td>\n",
              "      <td>32.061291</td>\n",
              "      <td>31.035400</td>\n",
              "      <td>95.082039</td>\n",
              "      <td>93.495461</td>\n",
              "      <td>...</td>\n",
              "      <td>2195919.0</td>\n",
              "      <td>2289176.0</td>\n",
              "      <td>2209567.0</td>\n",
              "      <td>2298576.0</td>\n",
              "      <td>2219780.0</td>\n",
              "      <td>2306482.0</td>\n",
              "      <td>26.652144</td>\n",
              "      <td>27.411229</td>\n",
              "      <td>23.145834</td>\n",
              "      <td>22.790793</td>\n",
              "    </tr>\n",
              "  </tbody>\n",
              "</table>\n",
              "<p>5 rows × 156 columns</p>\n",
              "</div>\n",
              "      <button class=\"colab-df-convert\" onclick=\"convertToInteractive('df-de9bed1c-d573-4dd0-98e9-66ebb10dd93e')\"\n",
              "              title=\"Convert this dataframe to an interactive table.\"\n",
              "              style=\"display:none;\">\n",
              "        \n",
              "  <svg xmlns=\"http://www.w3.org/2000/svg\" height=\"24px\"viewBox=\"0 0 24 24\"\n",
              "       width=\"24px\">\n",
              "    <path d=\"M0 0h24v24H0V0z\" fill=\"none\"/>\n",
              "    <path d=\"M18.56 5.44l.94 2.06.94-2.06 2.06-.94-2.06-.94-.94-2.06-.94 2.06-2.06.94zm-11 1L8.5 8.5l.94-2.06 2.06-.94-2.06-.94L8.5 2.5l-.94 2.06-2.06.94zm10 10l.94 2.06.94-2.06 2.06-.94-2.06-.94-.94-2.06-.94 2.06-2.06.94z\"/><path d=\"M17.41 7.96l-1.37-1.37c-.4-.4-.92-.59-1.43-.59-.52 0-1.04.2-1.43.59L10.3 9.45l-7.72 7.72c-.78.78-.78 2.05 0 2.83L4 21.41c.39.39.9.59 1.41.59.51 0 1.02-.2 1.41-.59l7.78-7.78 2.81-2.81c.8-.78.8-2.07 0-2.86zM5.41 20L4 18.59l7.72-7.72 1.47 1.35L5.41 20z\"/>\n",
              "  </svg>\n",
              "      </button>\n",
              "      \n",
              "  <style>\n",
              "    .colab-df-container {\n",
              "      display:flex;\n",
              "      flex-wrap:wrap;\n",
              "      gap: 12px;\n",
              "    }\n",
              "\n",
              "    .colab-df-convert {\n",
              "      background-color: #E8F0FE;\n",
              "      border: none;\n",
              "      border-radius: 50%;\n",
              "      cursor: pointer;\n",
              "      display: none;\n",
              "      fill: #1967D2;\n",
              "      height: 32px;\n",
              "      padding: 0 0 0 0;\n",
              "      width: 32px;\n",
              "    }\n",
              "\n",
              "    .colab-df-convert:hover {\n",
              "      background-color: #E2EBFA;\n",
              "      box-shadow: 0px 1px 2px rgba(60, 64, 67, 0.3), 0px 1px 3px 1px rgba(60, 64, 67, 0.15);\n",
              "      fill: #174EA6;\n",
              "    }\n",
              "\n",
              "    [theme=dark] .colab-df-convert {\n",
              "      background-color: #3B4455;\n",
              "      fill: #D2E3FC;\n",
              "    }\n",
              "\n",
              "    [theme=dark] .colab-df-convert:hover {\n",
              "      background-color: #434B5C;\n",
              "      box-shadow: 0px 1px 3px 1px rgba(0, 0, 0, 0.15);\n",
              "      filter: drop-shadow(0px 1px 2px rgba(0, 0, 0, 0.3));\n",
              "      fill: #FFFFFF;\n",
              "    }\n",
              "  </style>\n",
              "\n",
              "      <script>\n",
              "        const buttonEl =\n",
              "          document.querySelector('#df-de9bed1c-d573-4dd0-98e9-66ebb10dd93e button.colab-df-convert');\n",
              "        buttonEl.style.display =\n",
              "          google.colab.kernel.accessAllowed ? 'block' : 'none';\n",
              "\n",
              "        async function convertToInteractive(key) {\n",
              "          const element = document.querySelector('#df-de9bed1c-d573-4dd0-98e9-66ebb10dd93e');\n",
              "          const dataTable =\n",
              "            await google.colab.kernel.invokeFunction('convertToInteractive',\n",
              "                                                     [key], {});\n",
              "          if (!dataTable) return;\n",
              "\n",
              "          const docLinkHtml = 'Like what you see? Visit the ' +\n",
              "            '<a target=\"_blank\" href=https://colab.research.google.com/notebooks/data_table.ipynb>data table notebook</a>'\n",
              "            + ' to learn more about interactive tables.';\n",
              "          element.innerHTML = '';\n",
              "          dataTable['output_type'] = 'display_data';\n",
              "          await google.colab.output.renderOutput(dataTable, element);\n",
              "          const docLink = document.createElement('div');\n",
              "          docLink.innerHTML = docLinkHtml;\n",
              "          element.appendChild(docLink);\n",
              "        }\n",
              "      </script>\n",
              "    </div>\n",
              "  </div>\n",
              "  "
            ]
          },
          "metadata": {},
          "execution_count": 122
        }
      ]
    },
    {
      "cell_type": "code",
      "source": [
        "# Checking the null percentage on the data\n",
        "null_percentage = []\n",
        "for i in pivot_df.columns:\n",
        "  null_percentage.append(round(pivot_df[i].isnull().sum()*100/pivot_df.shape[0],2))\n",
        "  \n",
        "pd.Series(null_percentage).sort_values(ascending=False)[:50:10]"
      ],
      "metadata": {
        "colab": {
          "base_uri": "https://localhost:8080/"
        },
        "id": "G4pC_XcCnN5-",
        "outputId": "1a5402df-5d85-40c6-e8ed-0ef67d981c4f"
      },
      "execution_count": null,
      "outputs": [
        {
          "output_type": "execute_result",
          "data": {
            "text/plain": [
              "60     95.24\n",
              "1      90.48\n",
              "152    85.71\n",
              "51     76.19\n",
              "95     71.43\n",
              "dtype: float64"
            ]
          },
          "metadata": {},
          "execution_count": 123
        }
      ]
    },
    {
      "cell_type": "code",
      "source": [
        "# Determine a random threshold (in this case, we take 50%).\n",
        "# Check the columns that have more than the threshold, and drop it\n",
        "pivot_df.columns[np.array(null_percentage)<50][:10]"
      ],
      "metadata": {
        "colab": {
          "base_uri": "https://localhost:8080/"
        },
        "id": "D10i6Ug87_Rg",
        "outputId": "4a281dd9-ecd8-4d87-b971-a9ab399ca96c"
      },
      "execution_count": null,
      "outputs": [
        {
          "output_type": "execute_result",
          "data": {
            "text/plain": [
              "Index(['SE.PRE.ENRR.FE', 'SE.PRE.ENRR.MA', 'SE.PRM.CMPT.FE.ZS',\n",
              "       'SE.PRM.CMPT.MA.ZS', 'SE.PRM.ENRL.FE.ZS', 'SE.PRM.ENRR.FE',\n",
              "       'SE.PRM.ENRR.MA', 'SE.PRM.GINT.FE.ZS', 'SE.PRM.GINT.MA.ZS',\n",
              "       'SE.PRM.NENR.FE'],\n",
              "      dtype='object', name='Indicator Code')"
            ]
          },
          "metadata": {},
          "execution_count": 124
        }
      ]
    },
    {
      "cell_type": "code",
      "source": [
        "clean_df = pivot_df[pivot_df.columns[np.array(null_percentage)<50]]"
      ],
      "metadata": {
        "id": "0X5pHHFOBC8V"
      },
      "execution_count": null,
      "outputs": []
    },
    {
      "cell_type": "code",
      "source": [
        "clean_df.to_excel(\"not_imputed_indicator.xlsx\") "
      ],
      "metadata": {
        "id": "0Xoj2E0oERhT"
      },
      "execution_count": null,
      "outputs": []
    },
    {
      "cell_type": "code",
      "source": [
        "# Manual imputer on missing value from data pattern\n",
        "imputed_df = load_data(\"1h4M6Ya9AFBzK1iXYmHEc7d7eOLjniS3Y\")\n",
        "imputed_df.loc[:,\"Year\"] = imputed_df.Year.astype(int)\n",
        "imputed_df.head(2)"
      ],
      "metadata": {
        "colab": {
          "base_uri": "https://localhost:8080/",
          "height": 205
        },
        "id": "CakpOD1VC0V6",
        "outputId": "5fbcb31e-c06d-42bb-f421-64252944746d"
      },
      "execution_count": null,
      "outputs": [
        {
          "output_type": "execute_result",
          "data": {
            "text/plain": [
              "   Year  SE.PRE.ENRR.FE  SE.PRE.ENRR.MA  SE.PRM.CMPT.FE.ZS  SE.PRM.CMPT.MA.ZS  \\\n",
              "0  2001       24.882030       24.031130          94.167458           93.35778   \n",
              "1  2002       24.726709       24.092939          95.384338           94.73410   \n",
              "\n",
              "   SE.PRM.ENRL.FE.ZS  SE.PRM.ENRR.FE  SE.PRM.ENRR.MA  SE.PRM.GINT.FE.ZS  \\\n",
              "0           48.62186      108.455193      111.005981          107.97810   \n",
              "1           48.62113      108.698853      111.103027          111.70473   \n",
              "\n",
              "   SE.PRM.GINT.MA.ZS  ...  SP.DYN.SMAM.MA  SG.LAW.OBHB.MR.NO  \\\n",
              "0          113.91842  ...            27.0                  1   \n",
              "1          117.54551  ...            25.6                  1   \n",
              "\n",
              "   SP.DYN.TO65.FE.ZS.1  SP.DYN.TO65.MA.ZS.1  SP.POP.1564.FE.IN  \\\n",
              "0            70.661428            64.008986         69260465.5   \n",
              "1            71.278228            64.486552         70340395.0   \n",
              "\n",
              "   SP.POP.1564.MA.IN  HD.HCI.HLOS.MA  HD.HCI.HLOS.FE  SG.DMK.ALLD.FE.ZS  \\\n",
              "0           69631713      380.038837      402.135946          10.327778   \n",
              "1           70792759      381.111880      402.523951          10.711111   \n",
              "\n",
              "   SG.DMK.ALLD.MA.ZS  \n",
              "0               31.3  \n",
              "1               31.4  \n",
              "\n",
              "[2 rows x 131 columns]"
            ],
            "text/html": [
              "\n",
              "  <div id=\"df-118e00ec-4ac8-48da-9f1a-acc6c412624f\">\n",
              "    <div class=\"colab-df-container\">\n",
              "      <div>\n",
              "<style scoped>\n",
              "    .dataframe tbody tr th:only-of-type {\n",
              "        vertical-align: middle;\n",
              "    }\n",
              "\n",
              "    .dataframe tbody tr th {\n",
              "        vertical-align: top;\n",
              "    }\n",
              "\n",
              "    .dataframe thead th {\n",
              "        text-align: right;\n",
              "    }\n",
              "</style>\n",
              "<table border=\"1\" class=\"dataframe\">\n",
              "  <thead>\n",
              "    <tr style=\"text-align: right;\">\n",
              "      <th></th>\n",
              "      <th>Year</th>\n",
              "      <th>SE.PRE.ENRR.FE</th>\n",
              "      <th>SE.PRE.ENRR.MA</th>\n",
              "      <th>SE.PRM.CMPT.FE.ZS</th>\n",
              "      <th>SE.PRM.CMPT.MA.ZS</th>\n",
              "      <th>SE.PRM.ENRL.FE.ZS</th>\n",
              "      <th>SE.PRM.ENRR.FE</th>\n",
              "      <th>SE.PRM.ENRR.MA</th>\n",
              "      <th>SE.PRM.GINT.FE.ZS</th>\n",
              "      <th>SE.PRM.GINT.MA.ZS</th>\n",
              "      <th>...</th>\n",
              "      <th>SP.DYN.SMAM.MA</th>\n",
              "      <th>SG.LAW.OBHB.MR.NO</th>\n",
              "      <th>SP.DYN.TO65.FE.ZS.1</th>\n",
              "      <th>SP.DYN.TO65.MA.ZS.1</th>\n",
              "      <th>SP.POP.1564.FE.IN</th>\n",
              "      <th>SP.POP.1564.MA.IN</th>\n",
              "      <th>HD.HCI.HLOS.MA</th>\n",
              "      <th>HD.HCI.HLOS.FE</th>\n",
              "      <th>SG.DMK.ALLD.FE.ZS</th>\n",
              "      <th>SG.DMK.ALLD.MA.ZS</th>\n",
              "    </tr>\n",
              "  </thead>\n",
              "  <tbody>\n",
              "    <tr>\n",
              "      <th>0</th>\n",
              "      <td>2001</td>\n",
              "      <td>24.882030</td>\n",
              "      <td>24.031130</td>\n",
              "      <td>94.167458</td>\n",
              "      <td>93.35778</td>\n",
              "      <td>48.62186</td>\n",
              "      <td>108.455193</td>\n",
              "      <td>111.005981</td>\n",
              "      <td>107.97810</td>\n",
              "      <td>113.91842</td>\n",
              "      <td>...</td>\n",
              "      <td>27.0</td>\n",
              "      <td>1</td>\n",
              "      <td>70.661428</td>\n",
              "      <td>64.008986</td>\n",
              "      <td>69260465.5</td>\n",
              "      <td>69631713</td>\n",
              "      <td>380.038837</td>\n",
              "      <td>402.135946</td>\n",
              "      <td>10.327778</td>\n",
              "      <td>31.3</td>\n",
              "    </tr>\n",
              "    <tr>\n",
              "      <th>1</th>\n",
              "      <td>2002</td>\n",
              "      <td>24.726709</td>\n",
              "      <td>24.092939</td>\n",
              "      <td>95.384338</td>\n",
              "      <td>94.73410</td>\n",
              "      <td>48.62113</td>\n",
              "      <td>108.698853</td>\n",
              "      <td>111.103027</td>\n",
              "      <td>111.70473</td>\n",
              "      <td>117.54551</td>\n",
              "      <td>...</td>\n",
              "      <td>25.6</td>\n",
              "      <td>1</td>\n",
              "      <td>71.278228</td>\n",
              "      <td>64.486552</td>\n",
              "      <td>70340395.0</td>\n",
              "      <td>70792759</td>\n",
              "      <td>381.111880</td>\n",
              "      <td>402.523951</td>\n",
              "      <td>10.711111</td>\n",
              "      <td>31.4</td>\n",
              "    </tr>\n",
              "  </tbody>\n",
              "</table>\n",
              "<p>2 rows × 131 columns</p>\n",
              "</div>\n",
              "      <button class=\"colab-df-convert\" onclick=\"convertToInteractive('df-118e00ec-4ac8-48da-9f1a-acc6c412624f')\"\n",
              "              title=\"Convert this dataframe to an interactive table.\"\n",
              "              style=\"display:none;\">\n",
              "        \n",
              "  <svg xmlns=\"http://www.w3.org/2000/svg\" height=\"24px\"viewBox=\"0 0 24 24\"\n",
              "       width=\"24px\">\n",
              "    <path d=\"M0 0h24v24H0V0z\" fill=\"none\"/>\n",
              "    <path d=\"M18.56 5.44l.94 2.06.94-2.06 2.06-.94-2.06-.94-.94-2.06-.94 2.06-2.06.94zm-11 1L8.5 8.5l.94-2.06 2.06-.94-2.06-.94L8.5 2.5l-.94 2.06-2.06.94zm10 10l.94 2.06.94-2.06 2.06-.94-2.06-.94-.94-2.06-.94 2.06-2.06.94z\"/><path d=\"M17.41 7.96l-1.37-1.37c-.4-.4-.92-.59-1.43-.59-.52 0-1.04.2-1.43.59L10.3 9.45l-7.72 7.72c-.78.78-.78 2.05 0 2.83L4 21.41c.39.39.9.59 1.41.59.51 0 1.02-.2 1.41-.59l7.78-7.78 2.81-2.81c.8-.78.8-2.07 0-2.86zM5.41 20L4 18.59l7.72-7.72 1.47 1.35L5.41 20z\"/>\n",
              "  </svg>\n",
              "      </button>\n",
              "      \n",
              "  <style>\n",
              "    .colab-df-container {\n",
              "      display:flex;\n",
              "      flex-wrap:wrap;\n",
              "      gap: 12px;\n",
              "    }\n",
              "\n",
              "    .colab-df-convert {\n",
              "      background-color: #E8F0FE;\n",
              "      border: none;\n",
              "      border-radius: 50%;\n",
              "      cursor: pointer;\n",
              "      display: none;\n",
              "      fill: #1967D2;\n",
              "      height: 32px;\n",
              "      padding: 0 0 0 0;\n",
              "      width: 32px;\n",
              "    }\n",
              "\n",
              "    .colab-df-convert:hover {\n",
              "      background-color: #E2EBFA;\n",
              "      box-shadow: 0px 1px 2px rgba(60, 64, 67, 0.3), 0px 1px 3px 1px rgba(60, 64, 67, 0.15);\n",
              "      fill: #174EA6;\n",
              "    }\n",
              "\n",
              "    [theme=dark] .colab-df-convert {\n",
              "      background-color: #3B4455;\n",
              "      fill: #D2E3FC;\n",
              "    }\n",
              "\n",
              "    [theme=dark] .colab-df-convert:hover {\n",
              "      background-color: #434B5C;\n",
              "      box-shadow: 0px 1px 3px 1px rgba(0, 0, 0, 0.15);\n",
              "      filter: drop-shadow(0px 1px 2px rgba(0, 0, 0, 0.3));\n",
              "      fill: #FFFFFF;\n",
              "    }\n",
              "  </style>\n",
              "\n",
              "      <script>\n",
              "        const buttonEl =\n",
              "          document.querySelector('#df-118e00ec-4ac8-48da-9f1a-acc6c412624f button.colab-df-convert');\n",
              "        buttonEl.style.display =\n",
              "          google.colab.kernel.accessAllowed ? 'block' : 'none';\n",
              "\n",
              "        async function convertToInteractive(key) {\n",
              "          const element = document.querySelector('#df-118e00ec-4ac8-48da-9f1a-acc6c412624f');\n",
              "          const dataTable =\n",
              "            await google.colab.kernel.invokeFunction('convertToInteractive',\n",
              "                                                     [key], {});\n",
              "          if (!dataTable) return;\n",
              "\n",
              "          const docLinkHtml = 'Like what you see? Visit the ' +\n",
              "            '<a target=\"_blank\" href=https://colab.research.google.com/notebooks/data_table.ipynb>data table notebook</a>'\n",
              "            + ' to learn more about interactive tables.';\n",
              "          element.innerHTML = '';\n",
              "          dataTable['output_type'] = 'display_data';\n",
              "          await google.colab.output.renderOutput(dataTable, element);\n",
              "          const docLink = document.createElement('div');\n",
              "          docLink.innerHTML = docLinkHtml;\n",
              "          element.appendChild(docLink);\n",
              "        }\n",
              "      </script>\n",
              "    </div>\n",
              "  </div>\n",
              "  "
            ]
          },
          "metadata": {},
          "execution_count": 127
        }
      ]
    },
    {
      "cell_type": "code",
      "source": [
        "# Set mapping from indicator code to indicator name\n",
        "# Select the feature that will be used\n",
        "code_to_desc = {\"Year\" : \"Year\",\n",
        "\"SL.EMP.TOTL.SP.FE.ZS\" : \"emp_rate_f\", \"SL.EMP.TOTL.SP.MA.ZS\" : \"emp_rate_m\",\n",
        "\n",
        "\"SL.EMP.SELF.FE.ZS\" : \"informal_emp_f\", \"SL.EMP.WORK.FE.ZS\" : \"formal_emp_f\",\n",
        "\n",
        "\"SE.PRM.NENR.FE\" : \"primary_edu_f\", \"SE.PRM.NENR.MA\" : \"primary_edu_m\",\n",
        "\"SE.SEC.NENR.FE\" : \"secondary_edu_f\", \"SE.SEC.NENR.MA\" : \"secondary_edu_m\",\n",
        "\"SE.TER.ENRR.FE\" : \"tertiary_edu_f\", \"SE.TER.ENRR.MA\" : \"tertiary_edu_m\",\n",
        "\"SE.TER.CUAT.BA.FE.ZS\" : \"bachelor_edu_f\", \"SE.TER.CUAT.BA.MA.ZS\" : \"bachelor_edu_m\",\n",
        "\"SE.TER.CUAT.MS.FE.ZS\" : \"master_edu_f\", \"SE.TER.CUAT.MS.MA.ZS\" : \"master_edu_m\",\n",
        "\n",
        "\"SL.TLF.BASC.FE.ZS\" : \"basic_edu_emp_f\", \"SL.TLF.INTM.FE.ZS\" : \"interm_edu_emp_f\", \n",
        "\"SL.TLF.ADVN.FE.ZS\" : \"advance_edu_emp_f\", \n",
        "\n",
        "\"SE.ADT.LITR.FE.ZS\" : \"literacy_rate_f\", \"SE.ADT.LITR.MA.ZS\" : \"literacy_rate_m\",\n",
        "\"SP.DYN.LE00.FE.IN\" : \"life_expect_f\", \"SP.DYN.LE00.MA.IN\" : \"life_expect_m\",\n",
        "\"HD.HCI.OVRL.FE\" : \"HCI_f\", \"HD.HCI.OVRL.MA\" : \"HCI_m\",\n",
        "\"HD.HCI.HLOS.FE\" : \"HTS_f\", \"HD.HCI.HLOS.MA\" : \"HTS_m\",\n",
        "\"SP.DYN.SMAM.FE\" : \"age_marriage_f\", \"SP.DYN.SMAM.MA\" : \"age_marriage_m\",\n",
        "\"SG.DMK.ALLD.FE.ZS\" : \"decision_maker_f\", \"SG.DMK.ALLD.MA.ZS\" : \"decision_maker_m\",\n",
        "\"SP.DYN.TO65.FE.ZS\" : \"survival_f\", \"SP.DYN.TO65.MA.ZS\" : \"survival_m\",\n",
        "\"SP.POP.1564.FE.IN\" : \"population_f\", \"SP.POP.1564.MA.IN\" : \"population_f\",\n",
        "\n",
        "\"SP.DYN.AMRT.FE\" : \"mortality_rate_f\", \"SH.DYN.AIDS.FE.ZS\" : \"HIV_f\"\n",
        "}"
      ],
      "metadata": {
        "id": "AMzjPhh4G-ke"
      },
      "execution_count": null,
      "outputs": []
    },
    {
      "cell_type": "code",
      "source": [
        "use_df = imputed_df[code_to_desc.keys()].drop(0)\n",
        "use_df.columns = code_to_desc.values()\n",
        "use_df.head(2)"
      ],
      "metadata": {
        "colab": {
          "base_uri": "https://localhost:8080/",
          "height": 205
        },
        "id": "zhX6vU6xK_S5",
        "outputId": "76a28394-8ad1-46df-ea3c-d7b3e97f87f4"
      },
      "execution_count": null,
      "outputs": [
        {
          "output_type": "execute_result",
          "data": {
            "text/plain": [
              "   Year  emp_rate_f  emp_rate_m  informal_emp_f  formal_emp_f  primary_edu_f  \\\n",
              "1  2002   44.243000   79.176002       69.519997         30.48       90.86566   \n",
              "2  2003   43.830002   78.915001       70.910004         29.09       89.80657   \n",
              "\n",
              "   primary_edu_m  secondary_edu_f  secondary_edu_m  tertiary_edu_f  ...  \\\n",
              "1       91.77368         50.48961         51.10473        13.75591  ...   \n",
              "2       91.44727         53.10740         53.81393        14.20265  ...   \n",
              "\n",
              "   age_marriage_f  age_marriage_m  decision_maker_f  decision_maker_m  \\\n",
              "1            22.0            25.6         10.711111              31.4   \n",
              "2            22.1            25.9         11.133333              31.3   \n",
              "\n",
              "   survival_f  survival_m  population_f  population_f  mortality_rate_f  HIV_f  \n",
              "1   71.278228   64.486552    70340395.0      70792759           167.236   19.0  \n",
              "2   71.895028   64.964118    71404235.0      71921499           165.531   20.3  \n",
              "\n",
              "[2 rows x 36 columns]"
            ],
            "text/html": [
              "\n",
              "  <div id=\"df-1ca07ff2-7e20-42a3-8da6-e7fe67112909\">\n",
              "    <div class=\"colab-df-container\">\n",
              "      <div>\n",
              "<style scoped>\n",
              "    .dataframe tbody tr th:only-of-type {\n",
              "        vertical-align: middle;\n",
              "    }\n",
              "\n",
              "    .dataframe tbody tr th {\n",
              "        vertical-align: top;\n",
              "    }\n",
              "\n",
              "    .dataframe thead th {\n",
              "        text-align: right;\n",
              "    }\n",
              "</style>\n",
              "<table border=\"1\" class=\"dataframe\">\n",
              "  <thead>\n",
              "    <tr style=\"text-align: right;\">\n",
              "      <th></th>\n",
              "      <th>Year</th>\n",
              "      <th>emp_rate_f</th>\n",
              "      <th>emp_rate_m</th>\n",
              "      <th>informal_emp_f</th>\n",
              "      <th>formal_emp_f</th>\n",
              "      <th>primary_edu_f</th>\n",
              "      <th>primary_edu_m</th>\n",
              "      <th>secondary_edu_f</th>\n",
              "      <th>secondary_edu_m</th>\n",
              "      <th>tertiary_edu_f</th>\n",
              "      <th>...</th>\n",
              "      <th>age_marriage_f</th>\n",
              "      <th>age_marriage_m</th>\n",
              "      <th>decision_maker_f</th>\n",
              "      <th>decision_maker_m</th>\n",
              "      <th>survival_f</th>\n",
              "      <th>survival_m</th>\n",
              "      <th>population_f</th>\n",
              "      <th>population_f</th>\n",
              "      <th>mortality_rate_f</th>\n",
              "      <th>HIV_f</th>\n",
              "    </tr>\n",
              "  </thead>\n",
              "  <tbody>\n",
              "    <tr>\n",
              "      <th>1</th>\n",
              "      <td>2002</td>\n",
              "      <td>44.243000</td>\n",
              "      <td>79.176002</td>\n",
              "      <td>69.519997</td>\n",
              "      <td>30.48</td>\n",
              "      <td>90.86566</td>\n",
              "      <td>91.77368</td>\n",
              "      <td>50.48961</td>\n",
              "      <td>51.10473</td>\n",
              "      <td>13.75591</td>\n",
              "      <td>...</td>\n",
              "      <td>22.0</td>\n",
              "      <td>25.6</td>\n",
              "      <td>10.711111</td>\n",
              "      <td>31.4</td>\n",
              "      <td>71.278228</td>\n",
              "      <td>64.486552</td>\n",
              "      <td>70340395.0</td>\n",
              "      <td>70792759</td>\n",
              "      <td>167.236</td>\n",
              "      <td>19.0</td>\n",
              "    </tr>\n",
              "    <tr>\n",
              "      <th>2</th>\n",
              "      <td>2003</td>\n",
              "      <td>43.830002</td>\n",
              "      <td>78.915001</td>\n",
              "      <td>70.910004</td>\n",
              "      <td>29.09</td>\n",
              "      <td>89.80657</td>\n",
              "      <td>91.44727</td>\n",
              "      <td>53.10740</td>\n",
              "      <td>53.81393</td>\n",
              "      <td>14.20265</td>\n",
              "      <td>...</td>\n",
              "      <td>22.1</td>\n",
              "      <td>25.9</td>\n",
              "      <td>11.133333</td>\n",
              "      <td>31.3</td>\n",
              "      <td>71.895028</td>\n",
              "      <td>64.964118</td>\n",
              "      <td>71404235.0</td>\n",
              "      <td>71921499</td>\n",
              "      <td>165.531</td>\n",
              "      <td>20.3</td>\n",
              "    </tr>\n",
              "  </tbody>\n",
              "</table>\n",
              "<p>2 rows × 36 columns</p>\n",
              "</div>\n",
              "      <button class=\"colab-df-convert\" onclick=\"convertToInteractive('df-1ca07ff2-7e20-42a3-8da6-e7fe67112909')\"\n",
              "              title=\"Convert this dataframe to an interactive table.\"\n",
              "              style=\"display:none;\">\n",
              "        \n",
              "  <svg xmlns=\"http://www.w3.org/2000/svg\" height=\"24px\"viewBox=\"0 0 24 24\"\n",
              "       width=\"24px\">\n",
              "    <path d=\"M0 0h24v24H0V0z\" fill=\"none\"/>\n",
              "    <path d=\"M18.56 5.44l.94 2.06.94-2.06 2.06-.94-2.06-.94-.94-2.06-.94 2.06-2.06.94zm-11 1L8.5 8.5l.94-2.06 2.06-.94-2.06-.94L8.5 2.5l-.94 2.06-2.06.94zm10 10l.94 2.06.94-2.06 2.06-.94-2.06-.94-.94-2.06-.94 2.06-2.06.94z\"/><path d=\"M17.41 7.96l-1.37-1.37c-.4-.4-.92-.59-1.43-.59-.52 0-1.04.2-1.43.59L10.3 9.45l-7.72 7.72c-.78.78-.78 2.05 0 2.83L4 21.41c.39.39.9.59 1.41.59.51 0 1.02-.2 1.41-.59l7.78-7.78 2.81-2.81c.8-.78.8-2.07 0-2.86zM5.41 20L4 18.59l7.72-7.72 1.47 1.35L5.41 20z\"/>\n",
              "  </svg>\n",
              "      </button>\n",
              "      \n",
              "  <style>\n",
              "    .colab-df-container {\n",
              "      display:flex;\n",
              "      flex-wrap:wrap;\n",
              "      gap: 12px;\n",
              "    }\n",
              "\n",
              "    .colab-df-convert {\n",
              "      background-color: #E8F0FE;\n",
              "      border: none;\n",
              "      border-radius: 50%;\n",
              "      cursor: pointer;\n",
              "      display: none;\n",
              "      fill: #1967D2;\n",
              "      height: 32px;\n",
              "      padding: 0 0 0 0;\n",
              "      width: 32px;\n",
              "    }\n",
              "\n",
              "    .colab-df-convert:hover {\n",
              "      background-color: #E2EBFA;\n",
              "      box-shadow: 0px 1px 2px rgba(60, 64, 67, 0.3), 0px 1px 3px 1px rgba(60, 64, 67, 0.15);\n",
              "      fill: #174EA6;\n",
              "    }\n",
              "\n",
              "    [theme=dark] .colab-df-convert {\n",
              "      background-color: #3B4455;\n",
              "      fill: #D2E3FC;\n",
              "    }\n",
              "\n",
              "    [theme=dark] .colab-df-convert:hover {\n",
              "      background-color: #434B5C;\n",
              "      box-shadow: 0px 1px 3px 1px rgba(0, 0, 0, 0.15);\n",
              "      filter: drop-shadow(0px 1px 2px rgba(0, 0, 0, 0.3));\n",
              "      fill: #FFFFFF;\n",
              "    }\n",
              "  </style>\n",
              "\n",
              "      <script>\n",
              "        const buttonEl =\n",
              "          document.querySelector('#df-1ca07ff2-7e20-42a3-8da6-e7fe67112909 button.colab-df-convert');\n",
              "        buttonEl.style.display =\n",
              "          google.colab.kernel.accessAllowed ? 'block' : 'none';\n",
              "\n",
              "        async function convertToInteractive(key) {\n",
              "          const element = document.querySelector('#df-1ca07ff2-7e20-42a3-8da6-e7fe67112909');\n",
              "          const dataTable =\n",
              "            await google.colab.kernel.invokeFunction('convertToInteractive',\n",
              "                                                     [key], {});\n",
              "          if (!dataTable) return;\n",
              "\n",
              "          const docLinkHtml = 'Like what you see? Visit the ' +\n",
              "            '<a target=\"_blank\" href=https://colab.research.google.com/notebooks/data_table.ipynb>data table notebook</a>'\n",
              "            + ' to learn more about interactive tables.';\n",
              "          element.innerHTML = '';\n",
              "          dataTable['output_type'] = 'display_data';\n",
              "          await google.colab.output.renderOutput(dataTable, element);\n",
              "          const docLink = document.createElement('div');\n",
              "          docLink.innerHTML = docLinkHtml;\n",
              "          element.appendChild(docLink);\n",
              "        }\n",
              "      </script>\n",
              "    </div>\n",
              "  </div>\n",
              "  "
            ]
          },
          "metadata": {},
          "execution_count": 129
        }
      ]
    },
    {
      "cell_type": "code",
      "source": [
        "# Define a function called plot_timeseries\n",
        "def plot_timeseries(axes, x, y, color, xlabel, ylabel):\n",
        "  axes.plot(x, y, color=color)\n",
        "  axes.set_xlabel(xlabel)\n",
        "  axes.set_ylabel(ylabel, color=color)\n",
        "  axes.tick_params('y', colors=color)\n",
        "\n",
        "fig, ax = plt.subplots()\n",
        "plot_timeseries(ax, use_df['Year'], use_df['emp_rate_f'], 'red',\n",
        "                'Year', '% of Woman Population')\n",
        "ax2 = ax.twinx()\n",
        "plot_timeseries(ax2, use_df['Year'], use_df['emp_rate_m'], 'blue',\n",
        "                'Year', '% of Man Population')\n",
        "plt.title(\"Employment Rate Trends\")\n",
        "plt.show()"
      ],
      "metadata": {
        "colab": {
          "base_uri": "https://localhost:8080/",
          "height": 295
        },
        "id": "9rC5pSEzPLtP",
        "outputId": "5a33d0f5-1ed4-4fca-c3bc-e7c5c267c862"
      },
      "execution_count": null,
      "outputs": [
        {
          "output_type": "display_data",
          "data": {
            "text/plain": [
              "<Figure size 432x288 with 2 Axes>"
            ],
            "image/png": "[encoded data removed]"
          },
          "metadata": {
            "needs_background": "light"
          }
        }
      ]
    },
    {
      "cell_type": "code",
      "source": [
        "plt.plot(use_df.Year, use_df['primary_edu_m'], label=\"Male\")\n",
        "plt.plot(use_df.Year, use_df['primary_edu_f'], label=\"Female\")\n",
        "plt.xlabel(\"Year\")\n",
        "plt.ylabel(\"% of School-age Population\")\n",
        "plt.title(\"Primary Education Enrollment Trends\")\n",
        "plt.legend()"
      ],
      "metadata": {
        "colab": {
          "base_uri": "https://localhost:8080/",
          "height": 312
        },
        "id": "rMrvUCOaXelk",
        "outputId": "47a8e991-c9d7-40c3-fe2b-cc52fa18e809"
      },
      "execution_count": null,
      "outputs": [
        {
          "output_type": "execute_result",
          "data": {
            "text/plain": [
              "<matplotlib.legend.Legend at 0x7f9723054e50>"
            ]
          },
          "metadata": {},
          "execution_count": 131
        },
        {
          "output_type": "display_data",
          "data": {
            "text/plain": [
              "<Figure size 432x288 with 1 Axes>"
            ],
            "image/png": "[encoded data removed]"
          },
          "metadata": {
            "needs_background": "light"
          }
        }
      ]
    },
    {
      "cell_type": "code",
      "source": [
        "plt.scatter(use_df[\"life_expect_m\"],use_df[\"emp_rate_m\"],label=\"Male\")\n",
        "plt.scatter(use_df[\"life_expect_f\"],use_df[\"emp_rate_f\"], label=\"Female\")\n",
        "plt.axvline(use_df[\"life_expect_m\"].mean(), color='blue', linestyle=\"--\", ymin=0.75, ymax=1)\n",
        "plt.text(use_df[\"life_expect_m\"].mean()-0.4,68.6,'Mean')\n",
        "plt.axvline(use_df[\"life_expect_f\"].mean(), color='orange', linestyle='--', ymin=0, ymax=0.38)\n",
        "plt.text(use_df[\"life_expect_f\"].mean()-0.4,57,'Mean')\n",
        "plt.xlabel(\"Life expectancy\")\n",
        "plt.ylabel(\"Employment rate (%)\")\n",
        "plt.title(\"Life Expectancy VS Employment Rate\")\n",
        "plt.legend()"
      ],
      "metadata": {
        "colab": {
          "base_uri": "https://localhost:8080/",
          "height": 312
        },
        "id": "fHjsR1vzcAt8",
        "outputId": "1a864d9f-706f-42b4-bf01-d49766ecb97e"
      },
      "execution_count": null,
      "outputs": [
        {
          "output_type": "execute_result",
          "data": {
            "text/plain": [
              "<matplotlib.legend.Legend at 0x7f9722824190>"
            ]
          },
          "metadata": {},
          "execution_count": 132
        },
        {
          "output_type": "display_data",
          "data": {
            "text/plain": [
              "<Figure size 432x288 with 1 Axes>"
            ],
            "image/png": "[encoded data removed]"
          },
          "metadata": {
            "needs_background": "light"
          }
        }
      ]
    },
    {
      "cell_type": "code",
      "source": [
        "tmp = use_df.query(\"Year>2003\")\n",
        "plt.bar(tmp.Year, tmp['informal_emp_f'], color='r', label='Informal')\n",
        "plt.bar(tmp.Year, tmp['formal_emp_f'], bottom=tmp['informal_emp_f'], color='g',label='Formal')\n",
        "plt.axhline(50, linestyle='--')\n",
        "plt.title(\"Woman Informal & Formal Employment\")\n",
        "plt.xlabel(\"Year\")\n",
        "plt.ylabel(\"% of Female Employment\")\n",
        "plt.legend()\n",
        "plt.show()"
      ],
      "metadata": {
        "colab": {
          "base_uri": "https://localhost:8080/",
          "height": 295
        },
        "id": "KqdOK2GH_dGZ",
        "outputId": "974e4af6-c5ee-467d-a444-81ab5109d3f0"
      },
      "execution_count": null,
      "outputs": [
        {
          "output_type": "display_data",
          "data": {
            "text/plain": [
              "<Figure size 432x288 with 1 Axes>"
            ],
            "image/png": "[encoded data removed]"
          },
          "metadata": {
            "needs_background": "light"
          }
        }
      ]
    },
    {
      "cell_type": "code",
      "source": [
        "plt.figure(figsize=(8,4))\n",
        "tmp = use_df[(use_df.Year%2==0) & (use_df.Year>2006)]\n",
        "bar_width = 0.4\n",
        "plt.bar(tmp.Year - bar_width , tmp['basic_edu_emp_f'], bar_width, label='Basic')\n",
        "plt.plot(tmp.Year - bar_width , tmp['basic_edu_emp_f'], color='blue', \n",
        "         marker='o', markersize=2, linestyle='--')\n",
        "plt.bar(tmp.Year, tmp['interm_edu_emp_f'], bar_width, label='Intermediate')\n",
        "plt.plot(tmp.Year, tmp['interm_edu_emp_f'], color='orange', \n",
        "         marker='o', markersize=2, linestyle='--')\n",
        "plt.bar(tmp.Year + bar_width , tmp['advance_edu_emp_f'], bar_width, label='Advance')\n",
        "plt.plot(tmp.Year + bar_width, tmp['advance_edu_emp_f'], color='green', \n",
        "         marker='o', markersize=2, linestyle='--')\n",
        "plt.ylim([35,85])\n",
        "plt.legend(loc=2)\n",
        "plt.title(\"Employement Rate with Certain Education Level\")\n",
        "plt.xlabel(\"Year\")\n",
        "plt.ylabel(\"Employment Rate (%)\")\n",
        "plt.show()"
      ],
      "metadata": {
        "colab": {
          "base_uri": "https://localhost:8080/",
          "height": 295
        },
        "id": "ouxp_IzFBg_2",
        "outputId": "cbfb067d-a552-48a3-8d0b-dacdd1a45cb1"
      },
      "execution_count": null,
      "outputs": [
        {
          "output_type": "display_data",
          "data": {
            "text/plain": [
              "<Figure size 576x288 with 1 Axes>"
            ],
            "image/png": "[encoded data removed]"
          },
          "metadata": {
            "needs_background": "light"
          }
        }
      ]
    },
    {
      "cell_type": "code",
      "source": [
        "feature_list = ['primary_edu_f', 'secondary_edu_f', 'tertiary_edu_f', 'bachelor_edu_f',\n",
        "           'master_edu_f', 'life_expect_f', 'literacy_rate_f', 'HCI_f',\n",
        "           'HTS_f', 'age_marriage_f', 'decision_maker_f', 'survival_f',\n",
        "           'mortality_rate_f', \"HIV_f\"]\n",
        "feature = use_df[feature_list]\n",
        "target = use_df['emp_rate_f']"
      ],
      "metadata": {
        "id": "y-t6FrSX8n3c"
      },
      "execution_count": null,
      "outputs": []
    },
    {
      "cell_type": "code",
      "source": [
        "sns.heatmap(pd.concat([feature, target], axis=1).corr()[[\"emp_rate_f\"]], annot=True)"
      ],
      "metadata": {
        "colab": {
          "base_uri": "https://localhost:8080/",
          "height": 288
        },
        "id": "4NADJBcOPxqo",
        "outputId": "5c02f22b-88ba-4df0-f86f-055d9390efbd"
      },
      "execution_count": null,
      "outputs": [
        {
          "output_type": "execute_result",
          "data": {
            "text/plain": [
              "<matplotlib.axes._subplots.AxesSubplot at 0x7f97226b01d0>"
            ]
          },
          "metadata": {},
          "execution_count": 148
        },
        {
          "output_type": "display_data",
          "data": {
            "text/plain": [
              "<Figure size 432x288 with 2 Axes>"
            ],
            "image/png": "[encoded data removed]"
          },
          "metadata": {
            "needs_background": "light"
          }
        }
      ]
    },
    {
      "cell_type": "code",
      "source": [
        "linreg = LinearRegression().fit(feature, target)\n",
        "masker = shap.maskers.Independent(data=feature)\n",
        "explainer = shap.LinearExplainer(linreg, masker=masker)\n",
        "shap_values = explainer(feature)\n",
        "plt.title('Impact on Female Employment Rate with SHAP Value', fontsize=16)\n",
        "plt.xlabel(\"SHAP Value (model impact)\")\n",
        "shap.summary_plot(shap_values, feature, plot_type='bar')"
      ],
      "metadata": {
        "colab": {
          "base_uri": "https://localhost:8080/",
          "height": 521
        },
        "id": "81z711EM_IP5",
        "outputId": "b440cf3c-74ea-4cd0-f6e4-5d0aed9a9a4e"
      },
      "execution_count": null,
      "outputs": [
        {
          "output_type": "display_data",
          "data": {
            "text/plain": [
              "<Figure size 576x511.2 with 1 Axes>"
            ],
            "image/png": "[encoded data removed]"
          },
          "metadata": {
            "needs_background": "light"
          }
        }
      ]
    },
    {
      "cell_type": "code",
      "source": [
        "from scipy import stats\n",
        "params = np.append(linreg.intercept_,linreg.coef_)\n",
        "predictions = linreg.predict(feature)\n",
        "\n",
        "#newX = pd.DataFrame({\"Constant\":np.ones(len(feature))}).join(pd.DataFrame(feature.reset_index(drop=True)))\n",
        "#MSE = (sum((target-predictions)**2))/(len(newX)-len(newX.columns))\n",
        "\n",
        "# Note if you don't want to use a DataFrame replace the two lines above with\n",
        "newX = np.append(np.ones((len(feature),1)), feature, axis=1)\n",
        "MSE = (sum((target-predictions)**2))/(len(newX)-len(newX[0]))\n",
        "\n",
        "var_b = MSE*(np.linalg.inv(np.dot(newX.T,newX)).diagonal())\n",
        "sd_b = np.sqrt(var_b)\n",
        "ts_b = params/ sd_b\n",
        "\n",
        "p_values =[2*(1-stats.t.cdf(np.abs(i),(len(newX)-len(newX[0])))) for i in ts_b]\n",
        "\n",
        "sd_b = np.round(sd_b,3)\n",
        "ts_b = np.round(ts_b,3)\n",
        "p_values = np.round(p_values,3)\n",
        "params = np.round(params,4)\n",
        "\n",
        "myDF3 = pd.DataFrame()\n",
        "myDF3[\"Features\"],myDF3[\"Coefficients\"],myDF3[\"Standard Errors\"],myDF3[\"t values\"],myDF3[\"P_value\"] = [\n",
        "                  [\"constant\"]+feature_list,params,sd_b,ts_b,p_values]\n",
        "myDF3.drop(0)"
      ],
      "metadata": {
        "colab": {
          "base_uri": "https://localhost:8080/",
          "height": 483
        },
        "id": "coVOTGqhRwFZ",
        "outputId": "3fbeb5a4-e073-424f-962a-47ba7cefe1c9"
      },
      "execution_count": null,
      "outputs": [
        {
          "output_type": "execute_result",
          "data": {
            "text/plain": [
              "            Features  Coefficients  Standard Errors  t values  P_value\n",
              "1      primary_edu_f        0.1408            0.352     0.400    0.728\n",
              "2    secondary_edu_f        0.7265            0.424     1.715    0.228\n",
              "3     tertiary_edu_f        0.7539            0.621     1.214    0.349\n",
              "4     bachelor_edu_f      -19.7287           14.484    -1.362    0.306\n",
              "5       master_edu_f       33.7777           15.166     2.227    0.156\n",
              "6      life_expect_f       37.7416           22.759     1.658    0.239\n",
              "7    literacy_rate_f       -2.9416            1.295    -2.272    0.151\n",
              "8              HCI_f     2777.5137         2514.218     1.105    0.384\n",
              "9              HTS_f        7.8226           12.840     0.609    0.604\n",
              "10    age_marriage_f        0.9027            2.109     0.428    0.710\n",
              "11  decision_maker_f       -1.8061            1.982    -0.911    0.458\n",
              "12        survival_f      -60.3720           36.227    -1.666    0.238\n",
              "13  mortality_rate_f       -0.7357            0.580    -1.269    0.332\n",
              "14             HIV_f        3.4761            4.493     0.774    0.520"
            ],
            "text/html": [
              "\n",
              "  <div id=\"df-843dda0a-f004-4ab1-8c1e-720c22d16337\">\n",
              "    <div class=\"colab-df-container\">\n",
              "      <div>\n",
              "<style scoped>\n",
              "    .dataframe tbody tr th:only-of-type {\n",
              "        vertical-align: middle;\n",
              "    }\n",
              "\n",
              "    .dataframe tbody tr th {\n",
              "        vertical-align: top;\n",
              "    }\n",
              "\n",
              "    .dataframe thead th {\n",
              "        text-align: right;\n",
              "    }\n",
              "</style>\n",
              "<table border=\"1\" class=\"dataframe\">\n",
              "  <thead>\n",
              "    <tr style=\"text-align: right;\">\n",
              "      <th></th>\n",
              "      <th>Features</th>\n",
              "      <th>Coefficients</th>\n",
              "      <th>Standard Errors</th>\n",
              "      <th>t values</th>\n",
              "      <th>P_value</th>\n",
              "    </tr>\n",
              "  </thead>\n",
              "  <tbody>\n",
              "    <tr>\n",
              "      <th>1</th>\n",
              "      <td>primary_edu_f</td>\n",
              "      <td>0.1408</td>\n",
              "      <td>0.352</td>\n",
              "      <td>0.400</td>\n",
              "      <td>0.728</td>\n",
              "    </tr>\n",
              "    <tr>\n",
              "      <th>2</th>\n",
              "      <td>secondary_edu_f</td>\n",
              "      <td>0.7265</td>\n",
              "      <td>0.424</td>\n",
              "      <td>1.715</td>\n",
              "      <td>0.228</td>\n",
              "    </tr>\n",
              "    <tr>\n",
              "      <th>3</th>\n",
              "      <td>tertiary_edu_f</td>\n",
              "      <td>0.7539</td>\n",
              "      <td>0.621</td>\n",
              "      <td>1.214</td>\n",
              "      <td>0.349</td>\n",
              "    </tr>\n",
              "    <tr>\n",
              "      <th>4</th>\n",
              "      <td>bachelor_edu_f</td>\n",
              "      <td>-19.7287</td>\n",
              "      <td>14.484</td>\n",
              "      <td>-1.362</td>\n",
              "      <td>0.306</td>\n",
              "    </tr>\n",
              "    <tr>\n",
              "      <th>5</th>\n",
              "      <td>master_edu_f</td>\n",
              "      <td>33.7777</td>\n",
              "      <td>15.166</td>\n",
              "      <td>2.227</td>\n",
              "      <td>0.156</td>\n",
              "    </tr>\n",
              "    <tr>\n",
              "      <th>6</th>\n",
              "      <td>life_expect_f</td>\n",
              "      <td>37.7416</td>\n",
              "      <td>22.759</td>\n",
              "      <td>1.658</td>\n",
              "      <td>0.239</td>\n",
              "    </tr>\n",
              "    <tr>\n",
              "      <th>7</th>\n",
              "      <td>literacy_rate_f</td>\n",
              "      <td>-2.9416</td>\n",
              "      <td>1.295</td>\n",
              "      <td>-2.272</td>\n",
              "      <td>0.151</td>\n",
              "    </tr>\n",
              "    <tr>\n",
              "      <th>8</th>\n",
              "      <td>HCI_f</td>\n",
              "      <td>2777.5137</td>\n",
              "      <td>2514.218</td>\n",
              "      <td>1.105</td>\n",
              "      <td>0.384</td>\n",
              "    </tr>\n",
              "    <tr>\n",
              "      <th>9</th>\n",
              "      <td>HTS_f</td>\n",
              "      <td>7.8226</td>\n",
              "      <td>12.840</td>\n",
              "      <td>0.609</td>\n",
              "      <td>0.604</td>\n",
              "    </tr>\n",
              "    <tr>\n",
              "      <th>10</th>\n",
              "      <td>age_marriage_f</td>\n",
              "      <td>0.9027</td>\n",
              "      <td>2.109</td>\n",
              "      <td>0.428</td>\n",
              "      <td>0.710</td>\n",
              "    </tr>\n",
              "    <tr>\n",
              "      <th>11</th>\n",
              "      <td>decision_maker_f</td>\n",
              "      <td>-1.8061</td>\n",
              "      <td>1.982</td>\n",
              "      <td>-0.911</td>\n",
              "      <td>0.458</td>\n",
              "    </tr>\n",
              "    <tr>\n",
              "      <th>12</th>\n",
              "      <td>survival_f</td>\n",
              "      <td>-60.3720</td>\n",
              "      <td>36.227</td>\n",
              "      <td>-1.666</td>\n",
              "      <td>0.238</td>\n",
              "    </tr>\n",
              "    <tr>\n",
              "      <th>13</th>\n",
              "      <td>mortality_rate_f</td>\n",
              "      <td>-0.7357</td>\n",
              "      <td>0.580</td>\n",
              "      <td>-1.269</td>\n",
              "      <td>0.332</td>\n",
              "    </tr>\n",
              "    <tr>\n",
              "      <th>14</th>\n",
              "      <td>HIV_f</td>\n",
              "      <td>3.4761</td>\n",
              "      <td>4.493</td>\n",
              "      <td>0.774</td>\n",
              "      <td>0.520</td>\n",
              "    </tr>\n",
              "  </tbody>\n",
              "</table>\n",
              "</div>\n",
              "      <button class=\"colab-df-convert\" onclick=\"convertToInteractive('df-843dda0a-f004-4ab1-8c1e-720c22d16337')\"\n",
              "              title=\"Convert this dataframe to an interactive table.\"\n",
              "              style=\"display:none;\">\n",
              "        \n",
              "  <svg xmlns=\"http://www.w3.org/2000/svg\" height=\"24px\"viewBox=\"0 0 24 24\"\n",
              "       width=\"24px\">\n",
              "    <path d=\"M0 0h24v24H0V0z\" fill=\"none\"/>\n",
              "    <path d=\"M18.56 5.44l.94 2.06.94-2.06 2.06-.94-2.06-.94-.94-2.06-.94 2.06-2.06.94zm-11 1L8.5 8.5l.94-2.06 2.06-.94-2.06-.94L8.5 2.5l-.94 2.06-2.06.94zm10 10l.94 2.06.94-2.06 2.06-.94-2.06-.94-.94-2.06-.94 2.06-2.06.94z\"/><path d=\"M17.41 7.96l-1.37-1.37c-.4-.4-.92-.59-1.43-.59-.52 0-1.04.2-1.43.59L10.3 9.45l-7.72 7.72c-.78.78-.78 2.05 0 2.83L4 21.41c.39.39.9.59 1.41.59.51 0 1.02-.2 1.41-.59l7.78-7.78 2.81-2.81c.8-.78.8-2.07 0-2.86zM5.41 20L4 18.59l7.72-7.72 1.47 1.35L5.41 20z\"/>\n",
              "  </svg>\n",
              "      </button>\n",
              "      \n",
              "  <style>\n",
              "    .colab-df-container {\n",
              "      display:flex;\n",
              "      flex-wrap:wrap;\n",
              "      gap: 12px;\n",
              "    }\n",
              "\n",
              "    .colab-df-convert {\n",
              "      background-color: #E8F0FE;\n",
              "      border: none;\n",
              "      border-radius: 50%;\n",
              "      cursor: pointer;\n",
              "      display: none;\n",
              "      fill: #1967D2;\n",
              "      height: 32px;\n",
              "      padding: 0 0 0 0;\n",
              "      width: 32px;\n",
              "    }\n",
              "\n",
              "    .colab-df-convert:hover {\n",
              "      background-color: #E2EBFA;\n",
              "      box-shadow: 0px 1px 2px rgba(60, 64, 67, 0.3), 0px 1px 3px 1px rgba(60, 64, 67, 0.15);\n",
              "      fill: #174EA6;\n",
              "    }\n",
              "\n",
              "    [theme=dark] .colab-df-convert {\n",
              "      background-color: #3B4455;\n",
              "      fill: #D2E3FC;\n",
              "    }\n",
              "\n",
              "    [theme=dark] .colab-df-convert:hover {\n",
              "      background-color: #434B5C;\n",
              "      box-shadow: 0px 1px 3px 1px rgba(0, 0, 0, 0.15);\n",
              "      filter: drop-shadow(0px 1px 2px rgba(0, 0, 0, 0.3));\n",
              "      fill: #FFFFFF;\n",
              "    }\n",
              "  </style>\n",
              "\n",
              "      <script>\n",
              "        const buttonEl =\n",
              "          document.querySelector('#df-843dda0a-f004-4ab1-8c1e-720c22d16337 button.colab-df-convert');\n",
              "        buttonEl.style.display =\n",
              "          google.colab.kernel.accessAllowed ? 'block' : 'none';\n",
              "\n",
              "        async function convertToInteractive(key) {\n",
              "          const element = document.querySelector('#df-843dda0a-f004-4ab1-8c1e-720c22d16337');\n",
              "          const dataTable =\n",
              "            await google.colab.kernel.invokeFunction('convertToInteractive',\n",
              "                                                     [key], {});\n",
              "          if (!dataTable) return;\n",
              "\n",
              "          const docLinkHtml = 'Like what you see? Visit the ' +\n",
              "            '<a target=\"_blank\" href=https://colab.research.google.com/notebooks/data_table.ipynb>data table notebook</a>'\n",
              "            + ' to learn more about interactive tables.';\n",
              "          element.innerHTML = '';\n",
              "          dataTable['output_type'] = 'display_data';\n",
              "          await google.colab.output.renderOutput(dataTable, element);\n",
              "          const docLink = document.createElement('div');\n",
              "          docLink.innerHTML = docLinkHtml;\n",
              "          element.appendChild(docLink);\n",
              "        }\n",
              "      </script>\n",
              "    </div>\n",
              "  </div>\n",
              "  "
            ]
          },
          "metadata": {},
          "execution_count": 171
        }
      ]
    },
    {
      "cell_type": "code",
      "source": [
        "newX.shape"
      ],
      "metadata": {
        "colab": {
          "base_uri": "https://localhost:8080/"
        },
        "id": "5OaVQz_5V7R5",
        "outputId": "c60adc97-9f60-4f80-c0f2-f5fe9f011228"
      },
      "execution_count": null,
      "outputs": [
        {
          "output_type": "execute_result",
          "data": {
            "text/plain": [
              "(17, 15)"
            ]
          },
          "metadata": {},
          "execution_count": 169
        }
      ]
    },
    {
      "cell_type": "code",
      "source": [
        "use_df.to_csv(\"gender_indicator.csv\")"
      ],
      "metadata": {
        "id": "mxfHXY05srcu"
      },
      "execution_count": null,
      "outputs": []
    },
    {
      "cell_type": "markdown",
      "source": [
        "## Preparation on employment gender data"
      ],
      "metadata": {
        "id": "q9L--IZirRnQ"
      }
    },
    {
      "cell_type": "code",
      "source": [
        "# Clean the employment gender data\n",
        "def employment_gender(link):\n",
        "  df = load_data(link)\n",
        "  df = df.loc[1:]\n",
        "  new_header = df.iloc[0]\n",
        "  df = df[1:]\n",
        "  df.columns = new_header.tolist()\n",
        "  df.index = np.arange(1, len(df) + 1)\n",
        "  return df"
      ],
      "metadata": {
        "id": "u_dH1hALo0Pw"
      },
      "execution_count": null,
      "outputs": []
    },
    {
      "cell_type": "code",
      "source": [
        "female_df = employment_gender(\"1U-wxQ-isFLe85m_r7_fF0guUTk4CfYWC\")\n",
        "male_df = employment_gender(\"1gm5M6P4gPaTGh_D50B99iUmQAfHjRbtg\")"
      ],
      "metadata": {
        "id": "uWd7Db8ajN1A"
      },
      "execution_count": null,
      "outputs": []
    },
    {
      "cell_type": "code",
      "source": [
        "# Merge female and male employment data to 1 dataframe\n",
        "emp_gender_df_raw = np.array([male_df[male_df['Country Name']=='Indonesia'].values[0],\n",
        "                          female_df[female_df['Country Name']=='Indonesia'].values[0]])\n",
        "emp_gender_df_raw = pd.DataFrame(emp_gender_df_raw.T, columns=['male','female'], index=male_df.columns).iloc[45:]\n",
        "emp_gender_df_raw.index = emp_gender_df_raw.index.astype(int)"
      ],
      "metadata": {
        "id": "Hz0latx4l7xq"
      },
      "execution_count": null,
      "outputs": []
    },
    {
      "cell_type": "code",
      "source": [
        "emp_gender_df_raw.head(2)"
      ],
      "metadata": {
        "colab": {
          "base_uri": "https://localhost:8080/",
          "height": 112
        },
        "id": "fPJlhGvUrzHZ",
        "outputId": "0291fe13-875b-4fc6-d594-c6ba962d20f5"
      },
      "execution_count": null,
      "outputs": [
        {
          "output_type": "execute_result",
          "data": {
            "text/plain": [
              "           male     female\n",
              "2001     80.014  46.259998\n",
              "2002  79.176002     44.243"
            ],
            "text/html": [
              "\n",
              "  <div id=\"df-49e843a5-28c7-4684-ac1a-2f6d2d6b158e\">\n",
              "    <div class=\"colab-df-container\">\n",
              "      <div>\n",
              "<style scoped>\n",
              "    .dataframe tbody tr th:only-of-type {\n",
              "        vertical-align: middle;\n",
              "    }\n",
              "\n",
              "    .dataframe tbody tr th {\n",
              "        vertical-align: top;\n",
              "    }\n",
              "\n",
              "    .dataframe thead th {\n",
              "        text-align: right;\n",
              "    }\n",
              "</style>\n",
              "<table border=\"1\" class=\"dataframe\">\n",
              "  <thead>\n",
              "    <tr style=\"text-align: right;\">\n",
              "      <th></th>\n",
              "      <th>male</th>\n",
              "      <th>female</th>\n",
              "    </tr>\n",
              "  </thead>\n",
              "  <tbody>\n",
              "    <tr>\n",
              "      <th>2001</th>\n",
              "      <td>80.014</td>\n",
              "      <td>46.259998</td>\n",
              "    </tr>\n",
              "    <tr>\n",
              "      <th>2002</th>\n",
              "      <td>79.176002</td>\n",
              "      <td>44.243</td>\n",
              "    </tr>\n",
              "  </tbody>\n",
              "</table>\n",
              "</div>\n",
              "      <button class=\"colab-df-convert\" onclick=\"convertToInteractive('df-49e843a5-28c7-4684-ac1a-2f6d2d6b158e')\"\n",
              "              title=\"Convert this dataframe to an interactive table.\"\n",
              "              style=\"display:none;\">\n",
              "        \n",
              "  <svg xmlns=\"http://www.w3.org/2000/svg\" height=\"24px\"viewBox=\"0 0 24 24\"\n",
              "       width=\"24px\">\n",
              "    <path d=\"M0 0h24v24H0V0z\" fill=\"none\"/>\n",
              "    <path d=\"M18.56 5.44l.94 2.06.94-2.06 2.06-.94-2.06-.94-.94-2.06-.94 2.06-2.06.94zm-11 1L8.5 8.5l.94-2.06 2.06-.94-2.06-.94L8.5 2.5l-.94 2.06-2.06.94zm10 10l.94 2.06.94-2.06 2.06-.94-2.06-.94-.94-2.06-.94 2.06-2.06.94z\"/><path d=\"M17.41 7.96l-1.37-1.37c-.4-.4-.92-.59-1.43-.59-.52 0-1.04.2-1.43.59L10.3 9.45l-7.72 7.72c-.78.78-.78 2.05 0 2.83L4 21.41c.39.39.9.59 1.41.59.51 0 1.02-.2 1.41-.59l7.78-7.78 2.81-2.81c.8-.78.8-2.07 0-2.86zM5.41 20L4 18.59l7.72-7.72 1.47 1.35L5.41 20z\"/>\n",
              "  </svg>\n",
              "      </button>\n",
              "      \n",
              "  <style>\n",
              "    .colab-df-container {\n",
              "      display:flex;\n",
              "      flex-wrap:wrap;\n",
              "      gap: 12px;\n",
              "    }\n",
              "\n",
              "    .colab-df-convert {\n",
              "      background-color: #E8F0FE;\n",
              "      border: none;\n",
              "      border-radius: 50%;\n",
              "      cursor: pointer;\n",
              "      display: none;\n",
              "      fill: #1967D2;\n",
              "      height: 32px;\n",
              "      padding: 0 0 0 0;\n",
              "      width: 32px;\n",
              "    }\n",
              "\n",
              "    .colab-df-convert:hover {\n",
              "      background-color: #E2EBFA;\n",
              "      box-shadow: 0px 1px 2px rgba(60, 64, 67, 0.3), 0px 1px 3px 1px rgba(60, 64, 67, 0.15);\n",
              "      fill: #174EA6;\n",
              "    }\n",
              "\n",
              "    [theme=dark] .colab-df-convert {\n",
              "      background-color: #3B4455;\n",
              "      fill: #D2E3FC;\n",
              "    }\n",
              "\n",
              "    [theme=dark] .colab-df-convert:hover {\n",
              "      background-color: #434B5C;\n",
              "      box-shadow: 0px 1px 3px 1px rgba(0, 0, 0, 0.15);\n",
              "      filter: drop-shadow(0px 1px 2px rgba(0, 0, 0, 0.3));\n",
              "      fill: #FFFFFF;\n",
              "    }\n",
              "  </style>\n",
              "\n",
              "      <script>\n",
              "        const buttonEl =\n",
              "          document.querySelector('#df-49e843a5-28c7-4684-ac1a-2f6d2d6b158e button.colab-df-convert');\n",
              "        buttonEl.style.display =\n",
              "          google.colab.kernel.accessAllowed ? 'block' : 'none';\n",
              "\n",
              "        async function convertToInteractive(key) {\n",
              "          const element = document.querySelector('#df-49e843a5-28c7-4684-ac1a-2f6d2d6b158e');\n",
              "          const dataTable =\n",
              "            await google.colab.kernel.invokeFunction('convertToInteractive',\n",
              "                                                     [key], {});\n",
              "          if (!dataTable) return;\n",
              "\n",
              "          const docLinkHtml = 'Like what you see? Visit the ' +\n",
              "            '<a target=\"_blank\" href=https://colab.research.google.com/notebooks/data_table.ipynb>data table notebook</a>'\n",
              "            + ' to learn more about interactive tables.';\n",
              "          element.innerHTML = '';\n",
              "          dataTable['output_type'] = 'display_data';\n",
              "          await google.colab.output.renderOutput(dataTable, element);\n",
              "          const docLink = document.createElement('div');\n",
              "          docLink.innerHTML = docLinkHtml;\n",
              "          element.appendChild(docLink);\n",
              "        }\n",
              "      </script>\n",
              "    </div>\n",
              "  </div>\n",
              "  "
            ]
          },
          "metadata": {},
          "execution_count": 8
        }
      ]
    },
    {
      "cell_type": "code",
      "source": [
        "# Define a function called plot_timeseries\n",
        "def plot_timeseries(axes, x, y, color, xlabel, ylabel):\n",
        "  axes.plot(x, y, color=color)\n",
        "  axes.set_xlabel(xlabel)\n",
        "  axes.set_ylabel(ylabel, color=color)\n",
        "  axes.tick_params('y', colors=color)\n",
        "\n",
        "fig, ax = plt.subplots()\n",
        "plot_timeseries(ax, emp_gender_df_raw.index, emp_gender_df_raw['female'], 'red',\n",
        "                'Year', 'Woman Employment %')\n",
        "ax2 = ax.twinx()\n",
        "plot_timeseries(ax2, emp_gender_df_raw.index, emp_gender_df_raw['male'], 'blue',\n",
        "                'Year', 'Man Employment %')\n",
        "plt.show()"
      ],
      "metadata": {
        "colab": {
          "base_uri": "https://localhost:8080/",
          "height": 279
        },
        "id": "BaJAjndqz9_0",
        "outputId": "b3ab084d-8d16-42e4-c96a-9edd63685d74"
      },
      "execution_count": null,
      "outputs": [
        {
          "output_type": "display_data",
          "data": {
            "text/plain": [
              "<Figure size 432x288 with 2 Axes>"
            ],
            "image/png": "[encoded data removed]"
          },
          "metadata": {
            "needs_background": "light"
          }
        }
      ]
    },
    {
      "cell_type": "code",
      "source": [
        "emp_gender_df_raw.to_csv(\"employment_gender.csv\")"
      ],
      "metadata": {
        "id": "3bqx5cUutsTq"
      },
      "execution_count": null,
      "outputs": []
    },
    {
      "cell_type": "markdown",
      "source": [
        "## Preparation on job skills data"
      ],
      "metadata": {
        "id": "1KjcG1M1Een7"
      }
    },
    {
      "cell_type": "code",
      "source": [
        "df = load_data(\"1rHLCUIpP0ZcLPAcLyIUSIHvVuUT84NA0\")\n",
        "df.head(2)"
      ],
      "metadata": {
        "colab": {
          "base_uri": "https://localhost:8080/",
          "height": 243
        },
        "id": "q96Zt5WQEj_v",
        "outputId": "005532b7-1e62-4e1d-bd63-42d33d3becf4"
      },
      "execution_count": null,
      "outputs": [
        {
          "output_type": "execute_result",
          "data": {
            "text/plain": [
              "  Company                                              Title  \\\n",
              "0  Google                       Google Cloud Program Manager   \n",
              "1  Google  Supplier Development Engineer (SDE), Cable/Con...   \n",
              "\n",
              "                       Category         Location  \\\n",
              "0            Program Management        Singapore   \n",
              "1  Manufacturing & Supply Chain  Shanghai, China   \n",
              "\n",
              "                                    Responsibilities  \\\n",
              "0  Shape, shepherd, ship, and show technical prog...   \n",
              "1  Drive cross-functional activities in the suppl...   \n",
              "\n",
              "                              Minimum Qualifications  \\\n",
              "0  BA/BS degree or equivalent practical experienc...   \n",
              "1  BS degree in an Engineering discipline or equi...   \n",
              "\n",
              "                            Preferred Qualifications  \n",
              "0  Experience in the business technology market a...  \n",
              "1  BSEE, BSME or BSIE degree.\\nExperience of usin...  "
            ],
            "text/html": [
              "\n",
              "  <div id=\"df-45920cc3-91d2-4f50-88fc-da2c7e103bce\">\n",
              "    <div class=\"colab-df-container\">\n",
              "      <div>\n",
              "<style scoped>\n",
              "    .dataframe tbody tr th:only-of-type {\n",
              "        vertical-align: middle;\n",
              "    }\n",
              "\n",
              "    .dataframe tbody tr th {\n",
              "        vertical-align: top;\n",
              "    }\n",
              "\n",
              "    .dataframe thead th {\n",
              "        text-align: right;\n",
              "    }\n",
              "</style>\n",
              "<table border=\"1\" class=\"dataframe\">\n",
              "  <thead>\n",
              "    <tr style=\"text-align: right;\">\n",
              "      <th></th>\n",
              "      <th>Company</th>\n",
              "      <th>Title</th>\n",
              "      <th>Category</th>\n",
              "      <th>Location</th>\n",
              "      <th>Responsibilities</th>\n",
              "      <th>Minimum Qualifications</th>\n",
              "      <th>Preferred Qualifications</th>\n",
              "    </tr>\n",
              "  </thead>\n",
              "  <tbody>\n",
              "    <tr>\n",
              "      <th>0</th>\n",
              "      <td>Google</td>\n",
              "      <td>Google Cloud Program Manager</td>\n",
              "      <td>Program Management</td>\n",
              "      <td>Singapore</td>\n",
              "      <td>Shape, shepherd, ship, and show technical prog...</td>\n",
              "      <td>BA/BS degree or equivalent practical experienc...</td>\n",
              "      <td>Experience in the business technology market a...</td>\n",
              "    </tr>\n",
              "    <tr>\n",
              "      <th>1</th>\n",
              "      <td>Google</td>\n",
              "      <td>Supplier Development Engineer (SDE), Cable/Con...</td>\n",
              "      <td>Manufacturing &amp; Supply Chain</td>\n",
              "      <td>Shanghai, China</td>\n",
              "      <td>Drive cross-functional activities in the suppl...</td>\n",
              "      <td>BS degree in an Engineering discipline or equi...</td>\n",
              "      <td>BSEE, BSME or BSIE degree.\\nExperience of usin...</td>\n",
              "    </tr>\n",
              "  </tbody>\n",
              "</table>\n",
              "</div>\n",
              "      <button class=\"colab-df-convert\" onclick=\"convertToInteractive('df-45920cc3-91d2-4f50-88fc-da2c7e103bce')\"\n",
              "              title=\"Convert this dataframe to an interactive table.\"\n",
              "              style=\"display:none;\">\n",
              "        \n",
              "  <svg xmlns=\"http://www.w3.org/2000/svg\" height=\"24px\"viewBox=\"0 0 24 24\"\n",
              "       width=\"24px\">\n",
              "    <path d=\"M0 0h24v24H0V0z\" fill=\"none\"/>\n",
              "    <path d=\"M18.56 5.44l.94 2.06.94-2.06 2.06-.94-2.06-.94-.94-2.06-.94 2.06-2.06.94zm-11 1L8.5 8.5l.94-2.06 2.06-.94-2.06-.94L8.5 2.5l-.94 2.06-2.06.94zm10 10l.94 2.06.94-2.06 2.06-.94-2.06-.94-.94-2.06-.94 2.06-2.06.94z\"/><path d=\"M17.41 7.96l-1.37-1.37c-.4-.4-.92-.59-1.43-.59-.52 0-1.04.2-1.43.59L10.3 9.45l-7.72 7.72c-.78.78-.78 2.05 0 2.83L4 21.41c.39.39.9.59 1.41.59.51 0 1.02-.2 1.41-.59l7.78-7.78 2.81-2.81c.8-.78.8-2.07 0-2.86zM5.41 20L4 18.59l7.72-7.72 1.47 1.35L5.41 20z\"/>\n",
              "  </svg>\n",
              "      </button>\n",
              "      \n",
              "  <style>\n",
              "    .colab-df-container {\n",
              "      display:flex;\n",
              "      flex-wrap:wrap;\n",
              "      gap: 12px;\n",
              "    }\n",
              "\n",
              "    .colab-df-convert {\n",
              "      background-color: #E8F0FE;\n",
              "      border: none;\n",
              "      border-radius: 50%;\n",
              "      cursor: pointer;\n",
              "      display: none;\n",
              "      fill: #1967D2;\n",
              "      height: 32px;\n",
              "      padding: 0 0 0 0;\n",
              "      width: 32px;\n",
              "    }\n",
              "\n",
              "    .colab-df-convert:hover {\n",
              "      background-color: #E2EBFA;\n",
              "      box-shadow: 0px 1px 2px rgba(60, 64, 67, 0.3), 0px 1px 3px 1px rgba(60, 64, 67, 0.15);\n",
              "      fill: #174EA6;\n",
              "    }\n",
              "\n",
              "    [theme=dark] .colab-df-convert {\n",
              "      background-color: #3B4455;\n",
              "      fill: #D2E3FC;\n",
              "    }\n",
              "\n",
              "    [theme=dark] .colab-df-convert:hover {\n",
              "      background-color: #434B5C;\n",
              "      box-shadow: 0px 1px 3px 1px rgba(0, 0, 0, 0.15);\n",
              "      filter: drop-shadow(0px 1px 2px rgba(0, 0, 0, 0.3));\n",
              "      fill: #FFFFFF;\n",
              "    }\n",
              "  </style>\n",
              "\n",
              "      <script>\n",
              "        const buttonEl =\n",
              "          document.querySelector('#df-45920cc3-91d2-4f50-88fc-da2c7e103bce button.colab-df-convert');\n",
              "        buttonEl.style.display =\n",
              "          google.colab.kernel.accessAllowed ? 'block' : 'none';\n",
              "\n",
              "        async function convertToInteractive(key) {\n",
              "          const element = document.querySelector('#df-45920cc3-91d2-4f50-88fc-da2c7e103bce');\n",
              "          const dataTable =\n",
              "            await google.colab.kernel.invokeFunction('convertToInteractive',\n",
              "                                                     [key], {});\n",
              "          if (!dataTable) return;\n",
              "\n",
              "          const docLinkHtml = 'Like what you see? Visit the ' +\n",
              "            '<a target=\"_blank\" href=https://colab.research.google.com/notebooks/data_table.ipynb>data table notebook</a>'\n",
              "            + ' to learn more about interactive tables.';\n",
              "          element.innerHTML = '';\n",
              "          dataTable['output_type'] = 'display_data';\n",
              "          await google.colab.output.renderOutput(dataTable, element);\n",
              "          const docLink = document.createElement('div');\n",
              "          docLink.innerHTML = docLinkHtml;\n",
              "          element.appendChild(docLink);\n",
              "        }\n",
              "      </script>\n",
              "    </div>\n",
              "  </div>\n",
              "  "
            ]
          },
          "metadata": {},
          "execution_count": 141
        }
      ]
    },
    {
      "cell_type": "code",
      "source": [
        "df['Minimum Qualifications'][0]"
      ],
      "metadata": {
        "colab": {
          "base_uri": "https://localhost:8080/",
          "height": 52
        },
        "id": "Z06S3NWTE1yk",
        "outputId": "bd8a1022-d49d-4b94-d81e-0d790e79e2d4"
      },
      "execution_count": null,
      "outputs": [
        {
          "output_type": "execute_result",
          "data": {
            "text/plain": [
              "'BA/BS degree or equivalent practical experience.\\n3 years of experience in program and/or project management in cloud computing, enterprise software and/or marketing technologies.'"
            ],
            "application/vnd.google.colaboratory.intrinsic+json": {
              "type": "string"
            }
          },
          "metadata": {},
          "execution_count": 142
        }
      ]
    },
    {
      "cell_type": "code",
      "source": [
        "# Youtube company has less than 2% of the data\n",
        "df.Company.value_counts()"
      ],
      "metadata": {
        "colab": {
          "base_uri": "https://localhost:8080/"
        },
        "id": "KrnLs-JKshUd",
        "outputId": "ad45096c-499f-45e5-ee54-5f480406b9a5"
      },
      "execution_count": null,
      "outputs": [
        {
          "output_type": "execute_result",
          "data": {
            "text/plain": [
              "Google     1227\n",
              "YouTube      23\n",
              "Name: Company, dtype: int64"
            ]
          },
          "metadata": {},
          "execution_count": 143
        }
      ]
    },
    {
      "cell_type": "code",
      "source": [
        "# We just select google company for the data\n",
        "df = df[df[\"Company\"]==\"Google\"]"
      ],
      "metadata": {
        "id": "gbjkkf_lskn3"
      },
      "execution_count": null,
      "outputs": []
    },
    {
      "cell_type": "code",
      "source": [
        "# Drop irrelevant columns\n",
        "df.drop(df.iloc[:,[0,3,4]].columns, axis=1, inplace=True)"
      ],
      "metadata": {
        "id": "tYnS2W4AFxtV"
      },
      "execution_count": null,
      "outputs": []
    },
    {
      "cell_type": "code",
      "source": [
        "# Drop missing value\n",
        "df.dropna(inplace=True)\n",
        "df.isnull().sum().sum()"
      ],
      "metadata": {
        "colab": {
          "base_uri": "https://localhost:8080/"
        },
        "id": "z-sUOMd7pC-1",
        "outputId": "664b7bcd-c0a4-43d4-f32e-6b43b2d2c323"
      },
      "execution_count": null,
      "outputs": [
        {
          "output_type": "execute_result",
          "data": {
            "text/plain": [
              "0"
            ]
          },
          "metadata": {},
          "execution_count": 146
        }
      ]
    },
    {
      "cell_type": "code",
      "source": [
        "# function to clean text\n",
        "def clean_text(text):\n",
        "  # replace some words\n",
        "  text = text.replace(\"BA/BS\",\"Bachelor Art Science\")\n",
        "  text = text.replace(\"BS\",\"Bachelor Science\")\n",
        "  text = text.replace(\"BA\",\"Bachelor Art\")\n",
        "  text = text.replace(\" and/or\", \"\")\n",
        "  # remove punctuation\n",
        "  text = \"\".join([word.lower() for word in text if word not in string.punctuation+\"’\"])\n",
        "  # remove non character text\n",
        "  tokens = re.split('\\W+', text)\n",
        "  # remove stopwords and lemmatize word\n",
        "  text = [lemmatizer.lemmatize(word) for word in tokens if word not in stopwords]\n",
        "  # spelling correction\n",
        "  text = [correct_word_spelling(word) for word in text]\n",
        "  return text"
      ],
      "metadata": {
        "id": "c4cWlh6lpiCt"
      },
      "execution_count": null,
      "outputs": []
    },
    {
      "cell_type": "code",
      "source": [
        "# Clean text on minimum and preffered qualification\n",
        "# Then merged it to one\n",
        "df['clean_minimum'] = df['Minimum Qualifications'].apply(lambda x : clean_text(x))\n",
        "df['clean_preferred'] = df['Preferred Qualifications'].apply(lambda x : clean_text(x))\n",
        "df['Qualification'] = df['clean_minimum'] + df['clean_preferred']\n",
        "df['temp_qualification'] = df['Qualification'].apply(lambda x: \" \".join(x))"
      ],
      "metadata": {
        "id": "cEQNU1o7pld1"
      },
      "execution_count": null,
      "outputs": []
    },
    {
      "cell_type": "code",
      "source": [
        "# Drop qualification that is duplicated\n",
        "df.drop_duplicates(subset='temp_qualification', inplace=True)\n",
        "# Drop unnecessary columns\n",
        "df.drop(columns=df.iloc[:,[2,3,4,5,7]].columns, inplace=True)"
      ],
      "metadata": {
        "id": "38EzEZMu93we"
      },
      "execution_count": null,
      "outputs": []
    },
    {
      "cell_type": "code",
      "source": [
        "df.shape"
      ],
      "metadata": {
        "colab": {
          "base_uri": "https://localhost:8080/"
        },
        "id": "5nTJJbopxz96",
        "outputId": "6694a4d4-39d3-46ff-c694-ede1412b3ef3"
      },
      "execution_count": null,
      "outputs": [
        {
          "output_type": "execute_result",
          "data": {
            "text/plain": [
              "(820, 3)"
            ]
          },
          "metadata": {},
          "execution_count": 169
        }
      ]
    },
    {
      "cell_type": "code",
      "source": [
        "df.to_csv(\"job_skills_clean.csv\")"
      ],
      "metadata": {
        "id": "rsdM4YX5EpsC"
      },
      "execution_count": null,
      "outputs": []
    },
    {
      "cell_type": "markdown",
      "source": [
        "## Recommendation System"
      ],
      "metadata": {
        "id": "foSkvyIEFq03"
      }
    },
    {
      "cell_type": "code",
      "source": [
        "df = load_data(\"1zHOU1koW4j84AiQY4V4l6pASSzoMJS1x\").drop(\"Unnamed: 0\", axis=1)\n",
        "df.loc[:,\"Qualification\"] = df[\"Qualification\"].apply(lambda x: ast.literal_eval(x))"
      ],
      "metadata": {
        "id": "LRELH4J1z8_i"
      },
      "execution_count": null,
      "outputs": []
    },
    {
      "cell_type": "code",
      "source": [
        "# Cosine similiarity to check similiarity between 2 text\n",
        "def get_cosine(vec1, vec2):\n",
        "    vec1 = Counter(vec1)\n",
        "    vec2 = Counter(vec2)\n",
        "    intersection = set(vec1.keys()) & set(vec2.keys())\n",
        "    numerator = sum([vec1[x] * vec2[x] for x in intersection])\n",
        "\n",
        "    sum1 = sum([vec1[x] ** 2 for x in list(vec1.keys())])\n",
        "    sum2 = sum([vec2[x] ** 2 for x in list(vec2.keys())])\n",
        "    denominator = math.sqrt(sum1) * math.sqrt(sum2)\n",
        "\n",
        "    if not denominator:\n",
        "        return 0.0\n",
        "    else:\n",
        "        return float(numerator) / denominator"
      ],
      "metadata": {
        "id": "POuqVpLF6auE"
      },
      "execution_count": null,
      "outputs": []
    },
    {
      "cell_type": "code",
      "source": [
        "# Iterate every job qualification, and check the highest matching\n",
        "def check_match(df, input, amount=5):\n",
        "  score = []\n",
        "  for i in range(df.shape[0]):\n",
        "    score.append([i, get_cosine(input,df['Qualification'].iloc[i])])\n",
        "  score = np.array(score)\n",
        "  score = sorted(score, reverse=True, key=lambda x:x[1])[:amount]\n",
        "  for i in range(len(score)):\n",
        "    tmp = df.iloc[int(score[i][0])]\n",
        "    print(f\"Title: {tmp['Title']}\\nCategory: {tmp['Category']}\\nMatch: {round(score[i][1]*100,2)}%\\n\")"
      ],
      "metadata": {
        "id": "nSMT4BFN7Bz6"
      },
      "execution_count": null,
      "outputs": []
    },
    {
      "cell_type": "code",
      "source": [
        "# Function to recommend job\n",
        "def job_recommendation(input, amount=5):\n",
        "  text = clean_text(input)\n",
        "  check_match(df, text, amount)"
      ],
      "metadata": {
        "id": "y40zOxZS-hVZ"
      },
      "execution_count": null,
      "outputs": []
    },
    {
      "cell_type": "code",
      "source": [
        "text = \"\"\"\n",
        "BA degree on computer science field. My interests are in processing and analyzing data.\n",
        "I Have 1 years intership experience in data science. I also have good english skills and I'm a dilligent person.\n",
        "\"\"\"\n",
        "\n",
        "job_recommendation(text)"
      ],
      "metadata": {
        "colab": {
          "base_uri": "https://localhost:8080/"
        },
        "id": "TIEXTckHGLcG",
        "outputId": "4a2d5e44-91d4-4722-d5ce-7ad6790dc608"
      },
      "execution_count": null,
      "outputs": [
        {
          "output_type": "stream",
          "name": "stdout",
          "text": [
            "Title: Product Analyst, Data Science\n",
            "Category: Business Strategy\n",
            "Match: 47.0%\n",
            "\n",
            "Title: Product Analytics Lead, Data Science\n",
            "Category: Business Strategy\n",
            "Match: 46.43%\n",
            "\n",
            "Title: Data Analyst, Trust and Safety\n",
            "Category: Product & Customer Support\n",
            "Match: 41.6%\n",
            "\n",
            "Title: Data Analyst, Product Trust and Safety\n",
            "Category: Product & Customer Support\n",
            "Match: 40.41%\n",
            "\n",
            "Title: People Operations Business Intelligence Analyst\n",
            "Category: People Operations\n",
            "Match: 40.0%\n",
            "\n"
          ]
        }
      ]
    }
  ]
}